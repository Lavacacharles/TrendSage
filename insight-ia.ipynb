{
 "cells": [
  {
   "cell_type": "code",
   "execution_count": 101,
   "metadata": {},
   "outputs": [],
   "source": [
    "import openai \n",
    "import pandas as pd\n",
    "import re\n",
    "from typing import Optional\n",
    "from openai import OpenAI\n",
    "\n",
    "df= pd.read_csv(\"tiktok.csv\",delimiter=\",\")\n",
    "\n",
    "\n",
    "api_key = ''#colocar tu key\n",
    "\n",
    "client = openai.OpenAI(api_key=api_key)\n",
    "\n",
    "\n",
    "df = df.dropna(axis=1, how='all')\n",
    "df = df[[\"authorMeta/avatar\", \"authorMeta/name\", \"text\", \"diggCount\", \"shareCount\", \"playCount\", \"videoMeta/duration\", \n",
    "         \"musicMeta/musicName\", \"musicMeta/musicAuthor\", \"musicMeta/musicOriginal\", \"createTimeISO\", \"webVideoUrl\"]]\n",
    "df = df.rename(columns={\n",
    "    \"authorMeta/avatar\": \"authorMeta.avatar\", \n",
    "    \"authorMeta/name\": \"authorMeta.name\",\n",
    "    \"videoMeta/duration\": \"videoMeta.duration\",\n",
    "    \"musicMeta/musicName\": \"musicMeta.musicName\",\n",
    "    \"musicMeta/musicAuthor\": \"musicMeta.musicAuthor\",\n",
    "    \"musicMeta/musicOriginal\": \"musicMeta.musicOriginal\"\n",
    "})\n",
    "\n",
    "\n"
   ]
  },
  {
   "cell_type": "code",
   "execution_count": 102,
   "metadata": {},
   "outputs": [
    {
     "name": "stdout",
     "output_type": "stream",
     "text": [
      "El sentimiento del texto es positivo y refleja entusiasmo. La mención de ser estudiante foráneo sugiere una experiencia de aprendizaje y crecimiento personal, mientras que los emojis de casa y libros añaden un toque de calidez y estudio. Además, el uso de hashtags relacionados con la universidad y la vida estudiantil indica un sentido de comunidad y pertenencia. En general, la expresión transmite una vivencia alegre y significativa en el contexto académico.\n"
     ]
    }
   ],
   "source": [
    "\n",
    "\n",
    "\n",
    "\n",
    "def analyze_sentiment(text: Optional[str]) -> str:\n",
    "    if not text:\n",
    "        return \"No text provided\"\n",
    "    \n",
    "    try:\n",
    "        response = client.chat.completions.create(\n",
    "            model=\"gpt-4o-mini\", \n",
    "            messages=[\n",
    "                {\"role\": \"system\", \"content\": \"You are a helpful assistant that analyzes sentiment.\"},\n",
    "                {\"role\": \"user\", \"content\": f\"Analyze the sentiment of this text: '{text}', respond in Spanish, please\"}\n",
    "            ],\n",
    "            max_tokens=100\n",
    "        )\n",
    "        return response.choices[0].message.content\n",
    "    except Exception as e:\n",
    "        return f\"Error: {str(e)}\"\n",
    "\n",
    "print(analyze_sentiment(df.loc[0, 'text'])) "
   ]
  },
  {
   "cell_type": "code",
   "execution_count": 103,
   "metadata": {},
   "outputs": [],
   "source": [
    "df['sentiment_analysis'] = df['text'].apply(lambda x: analyze_sentiment(x))\n"
   ]
  },
  {
   "cell_type": "code",
   "execution_count": 104,
   "metadata": {},
   "outputs": [
    {
     "data": {
      "text/html": [
       "<div>\n",
       "<style scoped>\n",
       "    .dataframe tbody tr th:only-of-type {\n",
       "        vertical-align: middle;\n",
       "    }\n",
       "\n",
       "    .dataframe tbody tr th {\n",
       "        vertical-align: top;\n",
       "    }\n",
       "\n",
       "    .dataframe thead th {\n",
       "        text-align: right;\n",
       "    }\n",
       "</style>\n",
       "<table border=\"1\" class=\"dataframe\">\n",
       "  <thead>\n",
       "    <tr style=\"text-align: right;\">\n",
       "      <th></th>\n",
       "      <th>authorMeta.avatar</th>\n",
       "      <th>authorMeta.name</th>\n",
       "      <th>text</th>\n",
       "      <th>diggCount</th>\n",
       "      <th>shareCount</th>\n",
       "      <th>playCount</th>\n",
       "      <th>videoMeta.duration</th>\n",
       "      <th>musicMeta.musicName</th>\n",
       "      <th>musicMeta.musicAuthor</th>\n",
       "      <th>musicMeta.musicOriginal</th>\n",
       "      <th>createTimeISO</th>\n",
       "      <th>webVideoUrl</th>\n",
       "      <th>sentiment_analysis</th>\n",
       "    </tr>\n",
       "  </thead>\n",
       "  <tbody>\n",
       "    <tr>\n",
       "      <th>0</th>\n",
       "      <td>https://p16-sign-va.tiktokcdn.com/tos-maliva-a...</td>\n",
       "      <td>danyandrade_2</td>\n",
       "      <td>Un dia como estudiante Foráneo🏠📚  #vlog #foran...</td>\n",
       "      <td>12500</td>\n",
       "      <td>378</td>\n",
       "      <td>138000</td>\n",
       "      <td>77</td>\n",
       "      <td>A Midnight Jazz Affair</td>\n",
       "      <td>Dj Xolisi Khumalo</td>\n",
       "      <td>False</td>\n",
       "      <td>2024-09-21T02:14:38.000Z</td>\n",
       "      <td>https://www.tiktok.com/@danyandrade_2/video/74...</td>\n",
       "      <td>El sentimiento del texto es positivo. Se refle...</td>\n",
       "    </tr>\n",
       "    <tr>\n",
       "      <th>1</th>\n",
       "      <td>https://p16-sign-va.tiktokcdn.com/tos-maliva-a...</td>\n",
       "      <td>lanveryy2.0</td>\n",
       "      <td>#utec esto no es fun</td>\n",
       "      <td>326</td>\n",
       "      <td>22</td>\n",
       "      <td>13800</td>\n",
       "      <td>16</td>\n",
       "      <td>sonido original</td>\n",
       "      <td>trashed</td>\n",
       "      <td>True</td>\n",
       "      <td>2023-05-29T18:00:02.000Z</td>\n",
       "      <td>https://www.tiktok.com/@lanveryy2.0/video/7238...</td>\n",
       "      <td>El sentimiento de este texto es negativo. La e...</td>\n",
       "    </tr>\n",
       "    <tr>\n",
       "      <th>2</th>\n",
       "      <td>https://p16-sign-va.tiktokcdn.com/tos-maliva-a...</td>\n",
       "      <td>danyandrade_2</td>\n",
       "      <td>¿Me alcanzan $5.00? #vlog #utec #universidad #...</td>\n",
       "      <td>4313</td>\n",
       "      <td>93</td>\n",
       "      <td>53000</td>\n",
       "      <td>109</td>\n",
       "      <td>A Midnight Jazz Affair</td>\n",
       "      <td>Dj Xolisi Khumalo</td>\n",
       "      <td>False</td>\n",
       "      <td>2024-09-28T00:31:57.000Z</td>\n",
       "      <td>https://www.tiktok.com/@danyandrade_2/video/74...</td>\n",
       "      <td>El sentimiento del texto es neutral. La frase ...</td>\n",
       "    </tr>\n",
       "    <tr>\n",
       "      <th>3</th>\n",
       "      <td>https://p16-sign-sg.tiktokcdn.com/aweme/720x72...</td>\n",
       "      <td>uniquetradingcenter</td>\n",
       "      <td>My heart  #gold #trader #livetrade #fypシ #trad...</td>\n",
       "      <td>772</td>\n",
       "      <td>304</td>\n",
       "      <td>13700</td>\n",
       "      <td>10</td>\n",
       "      <td>original sound - UTEC</td>\n",
       "      <td>UTEC</td>\n",
       "      <td>True</td>\n",
       "      <td>2024-08-31T08:13:31.000Z</td>\n",
       "      <td>https://www.tiktok.com/@uniquetradingcenter/vi...</td>\n",
       "      <td>La sensación del texto parece ser positiva, ya...</td>\n",
       "    </tr>\n",
       "    <tr>\n",
       "      <th>4</th>\n",
       "      <td>https://p16-sign-va.tiktokcdn.com/tos-maliva-a...</td>\n",
       "      <td>soyangelelcurioso</td>\n",
       "      <td>No más pobres en un país de Ricos 🤔 Sígueme en...</td>\n",
       "      <td>86700</td>\n",
       "      <td>2088</td>\n",
       "      <td>2900000</td>\n",
       "      <td>78</td>\n",
       "      <td>Love You So</td>\n",
       "      <td>The King Khan &amp; BBQ Show</td>\n",
       "      <td>False</td>\n",
       "      <td>2022-09-01T12:00:06.000Z</td>\n",
       "      <td>https://www.tiktok.com/@soyangelelcurioso/vide...</td>\n",
       "      <td>El texto tiene una mezcla de sentimientos. La ...</td>\n",
       "    </tr>\n",
       "  </tbody>\n",
       "</table>\n",
       "</div>"
      ],
      "text/plain": [
       "                                   authorMeta.avatar  ...                                 sentiment_analysis\n",
       "0  https://p16-sign-va.tiktokcdn.com/tos-maliva-a...  ...  El sentimiento del texto es positivo. Se refle...\n",
       "1  https://p16-sign-va.tiktokcdn.com/tos-maliva-a...  ...  El sentimiento de este texto es negativo. La e...\n",
       "2  https://p16-sign-va.tiktokcdn.com/tos-maliva-a...  ...  El sentimiento del texto es neutral. La frase ...\n",
       "3  https://p16-sign-sg.tiktokcdn.com/aweme/720x72...  ...  La sensación del texto parece ser positiva, ya...\n",
       "4  https://p16-sign-va.tiktokcdn.com/tos-maliva-a...  ...  El texto tiene una mezcla de sentimientos. La ...\n",
       "\n",
       "[5 rows x 13 columns]"
      ]
     },
     "execution_count": 104,
     "metadata": {},
     "output_type": "execute_result"
    }
   ],
   "source": [
    "df.head()"
   ]
  },
  {
   "cell_type": "code",
   "execution_count": 105,
   "metadata": {},
   "outputs": [],
   "source": [
    "\n",
    "\n",
    "def analyze_sentiment_percentages(text: Optional[str]) -> str:\n",
    "    if not text:\n",
    "        return \"No text provided\"\n",
    "    \n",
    "    api_key = ''#colocar key\n",
    "\n",
    "    client = OpenAI(api_key=api_key)     \n",
    "    try:\n",
    "        response = client.chat.completions.create(\n",
    "            model=\"gpt-4o-mini\",\n",
    "            messages=[\n",
    "                {\"role\": \"system\", \"content\": \"You are a helpful assistant that analyzes sentiment.\"},\n",
    "                {\"role\": \"user\", \"content\": f\"Analyze the following text and provide the percentage breakdown of the main emotions (happiness, sadness, anger, fear, surprise): '{text}', would you like to give it to me in list format (ex: ['happiness':0.25, ' sadness':0.25, 'anger':0.25, 'fear':0.25, 'surprise':0.25]), just return the list to me, nothing more \"}\n",
    "            ],\n",
    "            max_tokens=100\n",
    "        )\n",
    "        return response.choices[0].message.content\n",
    "    except Exception as e:\n",
    "        return f\"Error: {str(e)}\"\n",
    "\n"
   ]
  },
  {
   "cell_type": "code",
   "execution_count": 106,
   "metadata": {},
   "outputs": [
    {
     "name": "stdout",
     "output_type": "stream",
     "text": [
      "['happiness': 0.0, 'sadness': 0.0, 'anger': 0.6, 'fear': 0.0, 'surprise': 0.4]\n"
     ]
    }
   ],
   "source": [
    "print(analyze_sentiment_percentages(df.loc[1, 'text']))  "
   ]
  },
  {
   "cell_type": "code",
   "execution_count": 107,
   "metadata": {},
   "outputs": [
    {
     "name": "stdout",
     "output_type": "stream",
     "text": [
      "['happiness':0.10, 'sadness':0.10, 'anger':0.05, 'fear':0.05, 'surprise':0.70]\n"
     ]
    }
   ],
   "source": [
    "print(analyze_sentiment_percentages(df.loc[2, 'text'])) "
   ]
  },
  {
   "cell_type": "code",
   "execution_count": 108,
   "metadata": {},
   "outputs": [],
   "source": [
    "df['sentiment_analysis'] = df['text'].apply(lambda x: analyze_sentiment_percentages(x))\n"
   ]
  },
  {
   "cell_type": "code",
   "execution_count": 109,
   "metadata": {},
   "outputs": [
    {
     "data": {
      "text/html": [
       "<div>\n",
       "<style scoped>\n",
       "    .dataframe tbody tr th:only-of-type {\n",
       "        vertical-align: middle;\n",
       "    }\n",
       "\n",
       "    .dataframe tbody tr th {\n",
       "        vertical-align: top;\n",
       "    }\n",
       "\n",
       "    .dataframe thead th {\n",
       "        text-align: right;\n",
       "    }\n",
       "</style>\n",
       "<table border=\"1\" class=\"dataframe\">\n",
       "  <thead>\n",
       "    <tr style=\"text-align: right;\">\n",
       "      <th></th>\n",
       "      <th>authorMeta.avatar</th>\n",
       "      <th>authorMeta.name</th>\n",
       "      <th>text</th>\n",
       "      <th>diggCount</th>\n",
       "      <th>shareCount</th>\n",
       "      <th>playCount</th>\n",
       "      <th>videoMeta.duration</th>\n",
       "      <th>musicMeta.musicName</th>\n",
       "      <th>musicMeta.musicAuthor</th>\n",
       "      <th>musicMeta.musicOriginal</th>\n",
       "      <th>createTimeISO</th>\n",
       "      <th>webVideoUrl</th>\n",
       "      <th>sentiment_analysis</th>\n",
       "    </tr>\n",
       "  </thead>\n",
       "  <tbody>\n",
       "    <tr>\n",
       "      <th>0</th>\n",
       "      <td>https://p16-sign-va.tiktokcdn.com/tos-maliva-a...</td>\n",
       "      <td>danyandrade_2</td>\n",
       "      <td>Un dia como estudiante Foráneo🏠📚  #vlog #foran...</td>\n",
       "      <td>12500</td>\n",
       "      <td>378</td>\n",
       "      <td>138000</td>\n",
       "      <td>77</td>\n",
       "      <td>A Midnight Jazz Affair</td>\n",
       "      <td>Dj Xolisi Khumalo</td>\n",
       "      <td>False</td>\n",
       "      <td>2024-09-21T02:14:38.000Z</td>\n",
       "      <td>https://www.tiktok.com/@danyandrade_2/video/74...</td>\n",
       "      <td>['happiness':0.60, 'sadness':0.05, 'anger':0.0...</td>\n",
       "    </tr>\n",
       "    <tr>\n",
       "      <th>1</th>\n",
       "      <td>https://p16-sign-va.tiktokcdn.com/tos-maliva-a...</td>\n",
       "      <td>lanveryy2.0</td>\n",
       "      <td>#utec esto no es fun</td>\n",
       "      <td>326</td>\n",
       "      <td>22</td>\n",
       "      <td>13800</td>\n",
       "      <td>16</td>\n",
       "      <td>sonido original</td>\n",
       "      <td>trashed</td>\n",
       "      <td>True</td>\n",
       "      <td>2023-05-29T18:00:02.000Z</td>\n",
       "      <td>https://www.tiktok.com/@lanveryy2.0/video/7238...</td>\n",
       "      <td>['happiness': 0.0, 'sadness': 0.2, 'anger': 0....</td>\n",
       "    </tr>\n",
       "    <tr>\n",
       "      <th>2</th>\n",
       "      <td>https://p16-sign-va.tiktokcdn.com/tos-maliva-a...</td>\n",
       "      <td>danyandrade_2</td>\n",
       "      <td>¿Me alcanzan $5.00? #vlog #utec #universidad #...</td>\n",
       "      <td>4313</td>\n",
       "      <td>93</td>\n",
       "      <td>53000</td>\n",
       "      <td>109</td>\n",
       "      <td>A Midnight Jazz Affair</td>\n",
       "      <td>Dj Xolisi Khumalo</td>\n",
       "      <td>False</td>\n",
       "      <td>2024-09-28T00:31:57.000Z</td>\n",
       "      <td>https://www.tiktok.com/@danyandrade_2/video/74...</td>\n",
       "      <td>['happiness': 0.10, 'sadness': 0.20, 'anger': ...</td>\n",
       "    </tr>\n",
       "    <tr>\n",
       "      <th>3</th>\n",
       "      <td>https://p16-sign-sg.tiktokcdn.com/aweme/720x72...</td>\n",
       "      <td>uniquetradingcenter</td>\n",
       "      <td>My heart  #gold #trader #livetrade #fypシ #trad...</td>\n",
       "      <td>772</td>\n",
       "      <td>304</td>\n",
       "      <td>13700</td>\n",
       "      <td>10</td>\n",
       "      <td>original sound - UTEC</td>\n",
       "      <td>UTEC</td>\n",
       "      <td>True</td>\n",
       "      <td>2024-08-31T08:13:31.000Z</td>\n",
       "      <td>https://www.tiktok.com/@uniquetradingcenter/vi...</td>\n",
       "      <td>['happiness': 0.5, 'sadness': 0.0, 'anger': 0....</td>\n",
       "    </tr>\n",
       "    <tr>\n",
       "      <th>4</th>\n",
       "      <td>https://p16-sign-va.tiktokcdn.com/tos-maliva-a...</td>\n",
       "      <td>soyangelelcurioso</td>\n",
       "      <td>No más pobres en un país de Ricos 🤔 Sígueme en...</td>\n",
       "      <td>86700</td>\n",
       "      <td>2088</td>\n",
       "      <td>2900000</td>\n",
       "      <td>78</td>\n",
       "      <td>Love You So</td>\n",
       "      <td>The King Khan &amp; BBQ Show</td>\n",
       "      <td>False</td>\n",
       "      <td>2022-09-01T12:00:06.000Z</td>\n",
       "      <td>https://www.tiktok.com/@soyangelelcurioso/vide...</td>\n",
       "      <td>['happiness':0.20, 'sadness':0.10, 'anger':0.1...</td>\n",
       "    </tr>\n",
       "  </tbody>\n",
       "</table>\n",
       "</div>"
      ],
      "text/plain": [
       "                                   authorMeta.avatar  ...                                 sentiment_analysis\n",
       "0  https://p16-sign-va.tiktokcdn.com/tos-maliva-a...  ...  ['happiness':0.60, 'sadness':0.05, 'anger':0.0...\n",
       "1  https://p16-sign-va.tiktokcdn.com/tos-maliva-a...  ...  ['happiness': 0.0, 'sadness': 0.2, 'anger': 0....\n",
       "2  https://p16-sign-va.tiktokcdn.com/tos-maliva-a...  ...  ['happiness': 0.10, 'sadness': 0.20, 'anger': ...\n",
       "3  https://p16-sign-sg.tiktokcdn.com/aweme/720x72...  ...  ['happiness': 0.5, 'sadness': 0.0, 'anger': 0....\n",
       "4  https://p16-sign-va.tiktokcdn.com/tos-maliva-a...  ...  ['happiness':0.20, 'sadness':0.10, 'anger':0.1...\n",
       "\n",
       "[5 rows x 13 columns]"
      ]
     },
     "execution_count": 109,
     "metadata": {},
     "output_type": "execute_result"
    }
   ],
   "source": [
    "df.head()"
   ]
  },
  {
   "cell_type": "code",
   "execution_count": 110,
   "metadata": {},
   "outputs": [
    {
     "data": {
      "text/plain": [
       "\"['happiness': 0.0, 'sadness': 0.2, 'anger': 0.4, 'fear': 0.0, 'surprise': 0.4]\""
      ]
     },
     "execution_count": 110,
     "metadata": {},
     "output_type": "execute_result"
    }
   ],
   "source": [
    "df.loc[1, 'sentiment_analysis']"
   ]
  },
  {
   "cell_type": "code",
   "execution_count": 111,
   "metadata": {},
   "outputs": [],
   "source": [
    "def hashtags(text: Optional[str]) -> str:\n",
    "    if not text:\n",
    "        return \"No text provided\"\n",
    "    \n",
    "    api_key = '' # colocar key\n",
    "\n",
    "    client = OpenAI(api_key=api_key)    \n",
    "    \n",
    "    try:\n",
    "        response = client.chat.completions.create(\n",
    "            model=\"gpt-4o-mini\", \n",
    "            messages=[\n",
    "                {\"role\": \"system\", \"content\": \"You are a helpful assistant that analyzes  the text and hashtags\"},\n",
    "                {\"role\": \"user\", \"content\": f\"I want you to give me the hashtags used in this text:'{text}', I want you to give it to me in list format (e.g. ['#hello','#happy']), just return the list, nothing more\"}\n",
    "            ],\n",
    "            max_tokens=100\n",
    "        )\n",
    "        return response.choices[0].message.content\n",
    "    except Exception as e:\n",
    "        return f\"Error: {str(e)}\""
   ]
  },
  {
   "cell_type": "code",
   "execution_count": 112,
   "metadata": {},
   "outputs": [
    {
     "name": "stdout",
     "output_type": "stream",
     "text": [
      "['#vlog', '#utec', '#universidad', '#foraneo', '#elsalvador', '#diaenmivida', '#universidadtecnologica', '#campus', '#universidades', '#danielandrade', '#campus', '#sanvicente']\n"
     ]
    }
   ],
   "source": [
    "print(hashtags(df.loc[2, 'text']))"
   ]
  },
  {
   "cell_type": "code",
   "execution_count": null,
   "metadata": {},
   "outputs": [],
   "source": [
    "df['hashtags'] = df['text'].apply(lambda x: hashtags(x))\n"
   ]
  },
  {
   "cell_type": "code",
   "execution_count": 94,
   "metadata": {},
   "outputs": [
    {
     "name": "stdout",
     "output_type": "stream",
     "text": [
      "                                                                                                                                                                                                                                                                  authorMeta.avatar      authorMeta.name                                                                                                                                                                                    text  diggCount  shareCount  playCount  videoMeta.duration     musicMeta.musicName     musicMeta.musicAuthor  musicMeta.musicOriginal             createTimeISO                                                            webVideoUrl                                                                   sentiment_analysis                                                                                                                                                                           hashtags  hashtag_count\n",
      "0        https://p16-sign-va.tiktokcdn.com/tos-maliva-avt-0068/a809b35af70c8f03bdbde417e3a3de5a~c5_720x720.jpeg?lk3s=a5d48078&nonce=79636&refresh_token=f4280de31fc154335dedc67882bc7c4e&x-expires=1728644400&x-signature=9glSQ5offVXBdwBt1gR275uUXNo%3D&shp=a5d48078&shcp=b59d6b55        danyandrade_2                     Un dia como estudiante Foráneo🏠📚  #vlog #foraneo #diaenmivida #universidad #elsalvador #utec #universidadtecnologica #sanvicente #comunicacion #artevisual #campus       12500         378     138000                  77  A Midnight Jazz Affair         Dj Xolisi Khumalo                    False  2024-09-21T02:14:38.000Z        https://www.tiktok.com/@danyandrade_2/video/7416914025428045062            ['happiness':0.5, 'sadness':0.0, 'anger':0.0, 'fear':0.0, 'surprise':0.5]                 ['#vlog', '#foraneo', '#diaenmivida', '#universidad', '#elsalvador', '#utec', '#universidadtecnologica', '#sanvicente', '#comunicacion', '#artevisual', '#campus']             11\n",
      "1  https://p16-sign-va.tiktokcdn.com/tos-maliva-avt-0068/cf0ada249420cb4062859d14b262156a~c5_720x720.jpeg?lk3s=a5d48078&nonce=67649&refresh_token=3c3a18ea60e374ee2109fa33fc9c296b&x-expires=1728644400&x-signature=1%2F9zpYJ%2FGF72cQlrjKl1TL%2FHuXw%3D&shp=a5d48078&shcp=b59d6b55          lanveryy2.0                                                                                                                                                                    #utec esto no es fun        326          22      13800                  16         sonido original                   trashed                     True  2023-05-29T18:00:02.000Z          https://www.tiktok.com/@lanveryy2.0/video/7238665723164331269       ['happiness': 0.0, 'sadness': 0.0, 'anger': 0.5, 'fear': 0.0, 'surprise': 0.5]                                                                                                                                                                          ['#utec']              1\n",
      "2        https://p16-sign-va.tiktokcdn.com/tos-maliva-avt-0068/a809b35af70c8f03bdbde417e3a3de5a~c5_720x720.jpeg?lk3s=a5d48078&nonce=79636&refresh_token=f4280de31fc154335dedc67882bc7c4e&x-expires=1728644400&x-signature=9glSQ5offVXBdwBt1gR275uUXNo%3D&shp=a5d48078&shcp=b59d6b55        danyandrade_2                       ¿Me alcanzan $5.00? #vlog #utec #universidad #foraneo #elsalvador #diaenmivida #universidadtecnologica #campus #universidades #danielandrade #campus #sanvicente        4313          93      53000                 109  A Midnight Jazz Affair         Dj Xolisi Khumalo                    False  2024-09-28T00:31:57.000Z        https://www.tiktok.com/@danyandrade_2/video/7419485167233846534  ['happiness': 0.10, 'sadness': 0.15, 'anger': 0.05, 'fear': 0.05, 'surprise': 0.65]  ['#vlog', '#utec', '#universidad', '#foraneo', '#elsalvador', '#diaenmivida', '#universidadtecnologica', '#campus', '#universidades', '#danielandrade', '#campus', '#sanvicente']             12\n",
      "3    https://p16-sign-sg.tiktokcdn.com/aweme/720x720/tos-alisg-avt-0068/51b08b17a8e5604ef19b19e2e2812c29.jpeg?lk3s=a5d48078&nonce=43042&refresh_token=9151986c7a8af61d7d11e08019e30edd&x-expires=1728644400&x-signature=bZa4AjI57MQ7Sdzgp5yvuOTfQ%2Bk%3D&shp=a5d48078&shcp=b59d6b55  uniquetradingcenter                                                                                                                                      My heart  #gold #trader #livetrade #fypシ #trading         772         304      13700                  10   original sound - UTEC                      UTEC                     True  2024-08-31T08:13:31.000Z  https://www.tiktok.com/@uniquetradingcenter/video/7409213729922944272       ['happiness': 0.5, 'sadness': 0.0, 'anger': 0.0, 'fear': 0.0, 'surprise': 0.5]                                                                                                                            ['#gold', '#trader', '#livetrade', '#fypシ', '#trading']              5\n",
      "4      https://p16-sign-va.tiktokcdn.com/tos-maliva-avt-0068/00e6cc6ccc36e558699f1f9f94e78bd7~c5_720x720.jpeg?lk3s=a5d48078&nonce=21203&refresh_token=8b97e6eff3bc74c7baf3c12159e4247e&x-expires=1728644400&x-signature=TI1SBUTI3mkKT%2Fhe4zBMCWrgBhs%3D&shp=a5d48078&shcp=b59d6b55    soyangelelcurioso  No más pobres en un país de Ricos 🤔 Sígueme en IG: Soyangelelcurioso 👈 😎 #arnoldcastillo #pedrocastillo #viral #peru #utec #universidad #miperu #elmejorpais #peruanos #foryou #parati      86700        2088    2900000                  78             Love You So  The King Khan & BBQ Show                    False  2022-09-01T12:00:06.000Z    https://www.tiktok.com/@soyangelelcurioso/video/7138379956710657285       ['happiness':0.25, 'sadness':0.15, 'anger':0.20, 'fear':0.10, 'surprise':0.30]                                    ['#arnoldcastillo', '#pedrocastillo', '#viral', '#peru', '#utec', '#universidad', '#miperu', '#elmejorpais', '#peruanos', '#foryou', '#parati']             11\n"
     ]
    }
   ],
   "source": [
    "\n",
    "\n",
    "def extract_hashtags(text):\n",
    "    if isinstance(text, str):\n",
    "        return re.findall(r'#\\w+', text)\n",
    "    return []\n",
    "\n",
    "# Crear una nueva columna que cuente los hashtags en cada texto\n",
    "df['hashtag_count'] = df['hashtags'].apply(lambda x: len(extract_hashtags(x)))\n",
    "\n",
    "print(df.to_string())"
   ]
  },
  {
   "cell_type": "code",
   "execution_count": 114,
   "metadata": {},
   "outputs": [
    {
     "name": "stdout",
     "output_type": "stream",
     "text": [
      "['utec', 'universidad', 'estudiantes', 'comunicacion', 'elsalvador']\n"
     ]
    }
   ],
   "source": [
    "def get_representative_words_from_column(df: pd.DataFrame, column_name: str) -> str:\n",
    "    text = \" \".join(df[column_name].astype(str).values)\n",
    "    \n",
    "    api_key = '' #colocar key\n",
    "\n",
    "    client = OpenAI(api_key=api_key)        \n",
    "    try:\n",
    "        response = client.chat.completions.create(\n",
    "            model=\"gpt-4o-mini\",\n",
    "            messages=[\n",
    "                {\"role\": \"system\", \"content\": \"You are a helpful assistant that summarizes text.\"},\n",
    "                {\"role\": \"user\", \"content\": f\"Analyze the following text and provide the 5 most representative words: '{text}'. Return only the list of 5 words, nothing more. I want you to return it to me this way (Ex: ['word1','word2','word3'])\"}\n",
    "            ],\n",
    "            max_tokens=50\n",
    "        )\n",
    "        return response.choices[0].message.content\n",
    "    except Exception as e:\n",
    "        return f\"Error: {str(e)}\"\n",
    "\n",
    "result = get_representative_words_from_column(df, 'text')\n",
    "print(result)"
   ]
  },
  {
   "cell_type": "code",
   "execution_count": null,
   "metadata": {},
   "outputs": [],
   "source": []
  },
  {
   "cell_type": "code",
   "execution_count": null,
   "metadata": {},
   "outputs": [],
   "source": []
  }
 ],
 "metadata": {
  "kernelspec": {
   "display_name": "Python 3",
   "language": "python",
   "name": "python3"
  },
  "language_info": {
   "codemirror_mode": {
    "name": "ipython",
    "version": 3
   },
   "file_extension": ".py",
   "mimetype": "text/x-python",
   "name": "python",
   "nbconvert_exporter": "python",
   "pygments_lexer": "ipython3",
   "version": "3.10.11"
  }
 },
 "nbformat": 4,
 "nbformat_minor": 2
}
