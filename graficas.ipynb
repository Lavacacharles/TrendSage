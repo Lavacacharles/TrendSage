{
 "cells": [
  {
   "cell_type": "code",
   "execution_count": 4,
   "metadata": {},
   "outputs": [],
   "source": [
    "import seaborn as sns\n",
    "import matplotlib.pyplot as plt\n",
    "import pandas as pd\n",
    "import ipywidgets as widgets\n",
    "from IPython.display import display\n",
    "from ipywidgets import interact\n",
    "import numpy as np\n",
    "import ast"
   ]
  },
  {
   "cell_type": "code",
   "execution_count": 26,
   "metadata": {},
   "outputs": [],
   "source": [
    "def top_hashtag(df):\n",
    "    df['hashtags'] = df['hashtags'].str.split()\n",
    "\n",
    "    df_expanded = df.explode('hashtags').reset_index(drop=True)\n",
    "    def plot_top_hashtags(year):\n",
    "        df_year = df_expanded[df_expanded['year'] == year]\n",
    "        \n",
    "        hashtag_counts = df_year['hashtags'].value_counts().reset_index()\n",
    "        hashtag_counts.columns = ['hashtag', 'count']\n",
    "        \n",
    "        top_hashtags = hashtag_counts.head(5)\n",
    "        \n",
    "        plt.figure(figsize=(10, 6))\n",
    "        ax = sns.barplot(data=top_hashtags, x='hashtag', y='count', palette='viridis')\n",
    "        \n",
    "        plt.title(f'Top 5 Hashtags más usados en el año {year}')\n",
    "        plt.xticks(rotation=45)\n",
    "        plt.ylabel(\"Cantidad de veces usadas\")\n",
    "        for p in ax.patches:\n",
    "            height = p.get_height()\n",
    "            ax.annotate(f'{height:.0f}', \n",
    "                        (p.get_x() + p.get_width() / 2., height), \n",
    "                        ha='center', va='center', fontsize=12, color='black', \n",
    "                        xytext=(0, 8), textcoords='offset points')\n",
    "        \n",
    "        plt.show()\n",
    "    min_year = df_expanded['year'].min()\n",
    "    max_year = df_expanded['year'].max()\n",
    "    year_slider = widgets.IntSlider(\n",
    "        value=min_year,\n",
    "        min=min_year,\n",
    "        max=max_year,\n",
    "        step=1,\n",
    "        description='Año:',\n",
    "        continuous_update=False\n",
    "    )\n",
    "\n",
    "    interact(plot_top_hashtags, year=year_slider)\n",
    "\n",
    "\n",
    "def hash_view_top(df):\n",
    "\n",
    "    df['hashtags'] = df['hashtags'].str.split()        \n",
    "    df_expanded = df.explode('hashtags').reset_index(drop=True)\n",
    "\n",
    "    def plot_top_hashtags_views(year):\n",
    "        \n",
    "\n",
    "        df_year = df_expanded[df_expanded['year'] == year]\n",
    "        \n",
    "        top_hashtag_views = df_year.groupby(['month', 'hashtags'])['playCount'].sum().reset_index()\n",
    "        \n",
    "        top_hashtag_views = top_hashtag_views.loc[top_hashtag_views.groupby('month')['playCount'].idxmax()]\n",
    "        \n",
    "        dic = {\n",
    "            1: \"Enero\",\n",
    "            2: \"Febrero\",\n",
    "            3: \"Marzo\",\n",
    "            4: \"Abril\",\n",
    "            5: \"Mayo\",\n",
    "            6: \"Junio\",\n",
    "            7: \"Julio\",\n",
    "            8: \"Agosto\",\n",
    "            9: \"Setiembre\",\n",
    "            10: \"Octubre\",\n",
    "            11: \"Noviembre\",\n",
    "            12: \"Diciembre\"\n",
    "        }\n",
    "        \n",
    "        top_hashtag_views['month'] = top_hashtag_views['month'].map(dic)\n",
    "        \n",
    "        plt.figure(figsize=(10, 6))\n",
    "        ax = sns.barplot(data=top_hashtag_views, x='month', y='playCount', hue='hashtags', dodge=False)\n",
    "        \n",
    "        plt.title(f'Hashtag con más vistas por mes en el año {year}')\n",
    "        \n",
    "        plt.xticks(rotation=45)\n",
    "        \n",
    "        plt.legend(title='Hashtag', loc='upper right')\n",
    "        \n",
    "        for p in ax.patches:\n",
    "            height = p.get_height()\n",
    "            \n",
    "            if not np.isnan(height):\n",
    "                ax.annotate(f'{int(height)}', \n",
    "                            (p.get_x() + p.get_width() / 2., height), \n",
    "                            ha='center', va='center', \n",
    "                            fontsize=12, color='black', \n",
    "                            xytext=(0, 8), textcoords='offset points')\n",
    "        \n",
    "        plt.show()\n",
    "    min_year = df_expanded['year'].min()\n",
    "    max_year = df_expanded['year'].max()\n",
    "    year_slider = widgets.IntSlider(\n",
    "        value=min_year,\n",
    "        min=min_year,\n",
    "        max=max_year,\n",
    "        step=1,\n",
    "        description='Año:',\n",
    "        continuous_update=False  \n",
    "    )\n",
    "    interact(plot_top_hashtags_views, year=year_slider)\n",
    "\n",
    "def interacion(df):\n",
    "    df_grouped = df.groupby(['year', 'month']).agg({'diggCount': 'sum', 'shareCount': 'sum', 'playCount': 'sum'}).reset_index()\n",
    "\n",
    "    def plot_interaction(interaction_type):\n",
    "        plt.figure(figsize=(10, 6))\n",
    "        sns.lineplot(data=df_grouped, x='month', y=interaction_type, hue='year', marker='o')\n",
    "        plt.title(f'{interaction_type} por Mes y Año')\n",
    "        plt.xlabel('Mes')\n",
    "        plt.ylabel('Cantidad de Interacciones')\n",
    "        plt.xticks(rotation= 90,ticks=range(1, 13), labels=['Enero', 'Febrero', 'Marzo', 'Abril', 'Mayo', 'Junio', 'Julio', 'Agosto', 'Septiembre', 'Octubre', 'Noviembre', 'Diciembre'])\n",
    "        \n",
    "        plt.legend(title='Año')\n",
    "        plt.show()\n",
    "\n",
    "    interact(plot_interaction, interaction_type=['diggCount', 'shareCount', 'playCount'])\n",
    "\n",
    "def interacion_year(df):\n",
    "    df_grouped = df.groupby(['year', 'month']).agg({'diggCount': 'sum', 'shareCount': 'sum', 'playCount': 'sum'}).reset_index()\n",
    "\n",
    "    def plot_interaction(year):\n",
    "        df_year = df_grouped[df_grouped['year'] == year]\n",
    "        plt.figure(figsize=(10, 6))\n",
    "        sns.lineplot(data=df_year, x='month', y='diggCount', marker='o', label='Diggs')\n",
    "        sns.lineplot(data=df_year, x='month', y='shareCount', marker='o', label='Shares')\n",
    "        sns.lineplot(data=df_year, x='month', y='playCount', marker='o', label='Plays')\n",
    "        \n",
    "        plt.title(f'Interacciones en el Año {year}')\n",
    "        plt.xlabel('Mes')\n",
    "        plt.ylabel('Cantidad de Interacciones')\n",
    "        plt.xticks(rotation=90, ticks=range(1, 13), labels=['Enero', 'Febrero', 'Marzo', 'Abril', 'Mayo', 'Junio', 'Julio', 'Agosto', 'Septiembre', 'Octubre', 'Noviembre', 'Diciembre'])\n",
    "        plt.legend(title='Interacción')\n",
    "        plt.show()\n",
    "    min_year = df['year'].min()\n",
    "    max_year = df['year'].max()\n",
    "\n",
    "    year_slider = widgets.IntSlider(\n",
    "        value=min_year,\n",
    "        min=min_year,\n",
    "        max=max_year,\n",
    "        step=1,\n",
    "        description='Año:',\n",
    "        continuous_update=False  \n",
    "    )\n",
    "\n",
    "    interact(plot_interaction, year=year_slider)\n",
    "\n",
    "def engagement_fans(df):\n",
    "    def engag_fans_year(year):\n",
    "        df_year = df[df['year'] == year]\n",
    "\n",
    "        plt.figure(figsize=(10, 6))\n",
    "        sns.scatterplot(data=df_year, x='fans', y='engagement_ratio', alpha=0.6, color='blue')\n",
    "\n",
    "        plt.title('Relación entre Engagement y Fans')\n",
    "        plt.xlabel('Número de Fans')\n",
    "        plt.ylabel('Engagement Ratio')\n",
    "        plt.show()\n",
    "    min_year = df['year'].min()\n",
    "    max_year = df['year'].max()\n",
    "\n",
    "    year_slider = widgets.IntSlider(\n",
    "        value=min_year,\n",
    "        min=min_year,\n",
    "        max=max_year,\n",
    "        step=1,\n",
    "        description='Año:',\n",
    "        continuous_update=False  \n",
    "    )\n",
    "\n",
    "    interact(engag_fans_year, year=year_slider)\n",
    "\n",
    "def sentiment_per(df):\n",
    "    df_temp= df.copy()\n",
    "    def parse_sentiment(sentiment_str):\n",
    "        if sentiment_str == 'No text provided': \n",
    "            return None\n",
    "        \n",
    "        try:\n",
    "            sentiment_str = sentiment_str.replace('[', '{').replace(']', '}')\n",
    "            \n",
    "            sentiment_dict = ast.literal_eval(sentiment_str)\n",
    "            \n",
    "            if isinstance(sentiment_dict, dict):\n",
    "                return sentiment_dict\n",
    "        except Exception as e:\n",
    "            print(f\"Error en la conversión de la cadena: {e}\") \n",
    "            return None \n",
    "\n",
    "    df_temp['sentiment_percentages'] = df_temp['sentiment_percentages'].apply(parse_sentiment)\n",
    "\n",
    "\n",
    "    sentiments = ['happiness', 'sadness', 'anger', 'fear', 'surprise']\n",
    "\n",
    "    for sentiment in sentiments:\n",
    "        df_temp[sentiment] = df_temp['sentiment_percentages'].apply(lambda x: x.get(sentiment, np.nan) if isinstance(x, dict) else np.nan)\n",
    "\n",
    "\n",
    "    df_temp[sentiments] = df_temp[sentiments].replace('No text provided', np.nan)\n",
    "\n",
    "    df_grouped = df_temp.groupby(['year', 'month'])[sentiments].mean().reset_index()\n",
    "\n",
    "    df_grouped['year'] = df_grouped['year'].astype(int)\n",
    "    df_grouped['month'] = df_grouped['month'].astype(int)\n",
    "\n",
    "\n",
    "    def plot_sentiment_heatmap(sentiment):\n",
    "        pivot_table = df_grouped.pivot_table(index='month', columns='year', values=sentiment)\n",
    "\n",
    "        pivot_table = pivot_table.dropna(how='all', axis=0)  # Elimina filas con solo NaN\n",
    "        pivot_table = pivot_table.dropna(how='all', axis=1)  # Elimina columnas con solo NaN\n",
    "\n",
    "        if not pivot_table.empty:\n",
    "            plt.figure(figsize=(12, 6))\n",
    "            sns.heatmap(pivot_table, annot=True, cmap='coolwarm', fmt='.2f')\n",
    "\n",
    "            plt.title(f'Sentimiento Promedio de {sentiment.capitalize()} por Año y Mes')\n",
    "            plt.xlabel('Año')\n",
    "            plt.ylabel('Mes')\n",
    "            plt.yticks(ticks=range(1, 13), labels=['Enero', 'Febrero', 'Marzo', 'Abril', 'Mayo', 'Junio', 'Julio', 'Agosto', 'Septiembre', 'Octubre', 'Noviembre', 'Diciembre'], rotation=0)\n",
    "            plt.show()\n",
    "        else:\n",
    "            print(f\"No hay datos suficientes para {sentiment.capitalize()}.\")\n",
    "\n",
    "    interact(plot_sentiment_heatmap, sentiment=sentiments);\n",
    "\n",
    "def duracion_reaccion(df_video):\n",
    "    df_video['engagement'] = df_video['shareCount'] + df_video['collectCount'] + df_video['commentCount'] + df_video['playCount']\n",
    "\n",
    "    plt.figure(figsize=(10, 6))\n",
    "    plt.scatter(df_video['duration'], df_video['engagement'], alpha=0.5)\n",
    "    plt.title('Relación entre Duración y Número de Reacciones (Engagement)')\n",
    "    plt.xlabel('Duración (segundos)')\n",
    "    plt.ylabel('Número de Reacciones (Engagement)')\n",
    "    plt.grid(True)\n",
    "    plt.show()\n",
    "\n",
    "def vistas_coments(df):\n",
    "    def vi_co(year):\n",
    "        df_temp=df[df['year'] == year]\n",
    "        plt.figure(figsize=(10, 6))\n",
    "        plt.scatter(df_temp['commentCount'], df_temp['playCount'], alpha=0.5)\n",
    "        plt.title('Relación entre la Cuenta de Comentarios y la Reacción de Vistas')\n",
    "        plt.xlabel('Cuenta de Comentarios')\n",
    "        plt.ylabel('Cantidad de Vistas')\n",
    "        plt.grid(True)\n",
    "\n",
    "        plt.show()\n",
    "    min_year = df['year'].min()\n",
    "    max_year = df['year'].max()\n",
    "\n",
    "    year_slider = widgets.IntSlider(\n",
    "        value=min_year,\n",
    "        min=min_year,\n",
    "        max=max_year,\n",
    "        step=1,\n",
    "        description='Año:',\n",
    "        continuous_update=False  \n",
    "    )\n",
    "\n",
    "    interact(vi_co, year=year_slider)\n",
    "\n",
    "\n",
    "def reac_commen(df):\n",
    "    \n",
    "    def año_reactio_commen(year):\n",
    "        df_temp=df[df['year'] == year].copy()\n",
    "        df_temp['total_reactions'] = df_temp['playCount'] + df_temp['shareCount'] + df_temp['diggCount']\n",
    "        plt.figure(figsize=(10, 6))\n",
    "        plt.scatter(df_temp['commentCount'], df_temp['total_reactions'], alpha=0.5)\n",
    "        plt.title('Cantidad de Comentarios vs. Reacciones (Plays, Shares, Diggs)')\n",
    "        plt.xlabel('Cantidad de Comentarios')\n",
    "        plt.ylabel('Reacciones Totales')\n",
    "        plt.grid(True)\n",
    "\n",
    "        plt.show()\n",
    "    min_year = df['year'].min()\n",
    "    max_year = df['year'].max()\n",
    "\n",
    "    year_slider = widgets.IntSlider(\n",
    "        value=min_year,\n",
    "        min=min_year,\n",
    "        max=max_year,\n",
    "        step=1,\n",
    "        description='Año:',\n",
    "        continuous_update=False  \n",
    "    )\n",
    "\n",
    "    interact(año_reactio_commen, year=year_slider)\n",
    "\n",
    "def Seguido_comen(df):\n",
    "    plt.figure(figsize=(10, 6))\n",
    "    plt.scatter(df['fans'], df['commentCount'], alpha=0.5)\n",
    "    plt.title('Relación entre Seguidores y Comentarios')\n",
    "    plt.xlabel('Número de Seguidores (Fans)')\n",
    "    plt.ylabel('Cuenta de Comentarios')\n",
    "    plt.show()\n",
    "\n",
    "def canción_más_vistas_por_mes(df):\n",
    "    \n",
    "    def canción_más_vistas_por_mes_y_año(year):\n",
    "        df_temp = df[df['year'] == year]\n",
    "        \n",
    "        monthly_data = df_temp.groupby(['year', 'month', 'musicName'])['playCount'].sum().reset_index()\n",
    "\n",
    "        max_views_per_month = monthly_data.loc[monthly_data.groupby(['month'])['playCount'].idxmax()]\n",
    "        month_names = ['Enero', 'Febrero', 'Marzo', 'Abril', 'Mayo', 'Junio', \n",
    "                       'Julio', 'Agosto', 'Septiembre', 'Octubre', 'Noviembre', 'Diciembre']\n",
    "\n",
    "        plt.figure(figsize=(12, 8))\n",
    "        for month in range(1, 13):\n",
    "            song_data = max_views_per_month[max_views_per_month['month'] == month]\n",
    "            \n",
    "            if not song_data.empty:\n",
    "                plt.bar(month, song_data['playCount'].values[0], label=song_data['musicName'].values[0])\n",
    "\n",
    "        plt.title(f'Canción con Más Vistas por Mes - Año {year}')\n",
    "        plt.xlabel('Mes')\n",
    "        plt.ylabel('Número de Reproducciones')\n",
    "        plt.xticks(range(1, 13), month_names, rotation=90)  \n",
    "        plt.legend(title='Canción', bbox_to_anchor=(1.05, 1), loc='upper left')\n",
    "        plt.show()\n",
    "\n",
    "    min_year = df['year'].min()\n",
    "    max_year = df['year'].max()\n",
    "\n",
    "    year_slider = widgets.IntSlider(\n",
    "        value=min_year,\n",
    "        min=min_year,\n",
    "        max=max_year,\n",
    "        step=1,\n",
    "        description='Año:',\n",
    "        continuous_update=False  \n",
    "    )\n",
    "\n",
    "    interact(canción_más_vistas_por_mes_y_año, year=year_slider)\n"
   ]
  },
  {
   "cell_type": "code",
   "execution_count": 34,
   "metadata": {},
   "outputs": [
    {
     "name": "stdout",
     "output_type": "stream",
     "text": [
      "Gráfica de Hashtags más usados por año\n"
     ]
    },
    {
     "data": {
      "application/vnd.jupyter.widget-view+json": {
       "model_id": "94ccfad0ff2a4bda8d7372233932c3c1",
       "version_major": 2,
       "version_minor": 0
      },
      "text/plain": [
       "interactive(children=(IntSlider(value=2020, continuous_update=False, description='Año:', max=2024, min=2020), …"
      ]
     },
     "metadata": {},
     "output_type": "display_data"
    },
    {
     "name": "stdout",
     "output_type": "stream",
     "text": [
      "Hashtags con más vista por cada mes\n"
     ]
    },
    {
     "data": {
      "application/vnd.jupyter.widget-view+json": {
       "model_id": "5ac91fafde0947b489535fe7f774dd7e",
       "version_major": 2,
       "version_minor": 0
      },
      "text/plain": [
       "interactive(children=(IntSlider(value=2020, continuous_update=False, description='Año:', max=2024, min=2020), …"
      ]
     },
     "metadata": {},
     "output_type": "display_data"
    },
    {
     "name": "stdout",
     "output_type": "stream",
     "text": [
      "Interacciones por mes y Año\n"
     ]
    },
    {
     "data": {
      "application/vnd.jupyter.widget-view+json": {
       "model_id": "2a204003524c4e8bb2d3da9a9f06ca1a",
       "version_major": 2,
       "version_minor": 0
      },
      "text/plain": [
       "interactive(children=(Dropdown(description='interaction_type', options=('diggCount', 'shareCount', 'playCount'…"
      ]
     },
     "metadata": {},
     "output_type": "display_data"
    },
    {
     "name": "stdout",
     "output_type": "stream",
     "text": [
      "Interacciones por Año\n"
     ]
    },
    {
     "data": {
      "application/vnd.jupyter.widget-view+json": {
       "model_id": "d752fa62b73e4ac891b15d2a17fcc524",
       "version_major": 2,
       "version_minor": 0
      },
      "text/plain": [
       "interactive(children=(IntSlider(value=2020, continuous_update=False, description='Año:', max=2024, min=2020), …"
      ]
     },
     "metadata": {},
     "output_type": "display_data"
    },
    {
     "name": "stdout",
     "output_type": "stream",
     "text": [
      "Relación de engagmente y fans por año\n"
     ]
    },
    {
     "data": {
      "application/vnd.jupyter.widget-view+json": {
       "model_id": "3548e664d70b4f288af5bd8a9e25b40c",
       "version_major": 2,
       "version_minor": 0
      },
      "text/plain": [
       "interactive(children=(IntSlider(value=2020, continuous_update=False, description='Año:', max=2024, min=2020), …"
      ]
     },
     "metadata": {},
     "output_type": "display_data"
    },
    {
     "name": "stdout",
     "output_type": "stream",
     "text": [
      "Promedio de sentimeinto por año y mes\n"
     ]
    },
    {
     "data": {
      "application/vnd.jupyter.widget-view+json": {
       "model_id": "7a8e3c26ff12424db45eae92963a65c8",
       "version_major": 2,
       "version_minor": 0
      },
      "text/plain": [
       "interactive(children=(Dropdown(description='sentiment', options=('happiness', 'sadness', 'anger', 'fear', 'sur…"
      ]
     },
     "metadata": {},
     "output_type": "display_data"
    },
    {
     "name": "stdout",
     "output_type": "stream",
     "text": [
      "relacion de duración de video por número de interacciones\n"
     ]
    },
    {
     "data": {
      "image/png": "[encoded data removed]",
      "text/plain": [
       "<Figure size 1000x600 with 1 Axes>"
      ]
     },
     "metadata": {},
     "output_type": "display_data"
    },
    {
     "name": "stdout",
     "output_type": "stream",
     "text": [
      "relación de vistas vs comentarios\n"
     ]
    },
    {
     "data": {
      "application/vnd.jupyter.widget-view+json": {
       "model_id": "a26156d4276c4effaee3c21249d35ab4",
       "version_major": 2,
       "version_minor": 0
      },
      "text/plain": [
       "interactive(children=(IntSlider(value=2020, continuous_update=False, description='Año:', max=2024, min=2020), …"
      ]
     },
     "metadata": {},
     "output_type": "display_data"
    },
    {
     "name": "stdout",
     "output_type": "stream",
     "text": [
      "Relación de reacciones por comentarios\n"
     ]
    },
    {
     "data": {
      "application/vnd.jupyter.widget-view+json": {
       "model_id": "4b2bcfb147b84e0099cdbed7d3ea5463",
       "version_major": 2,
       "version_minor": 0
      },
      "text/plain": [
       "interactive(children=(IntSlider(value=2020, continuous_update=False, description='Año:', max=2024, min=2020), …"
      ]
     },
     "metadata": {},
     "output_type": "display_data"
    },
    {
     "name": "stdout",
     "output_type": "stream",
     "text": [
      "Relación de seguidores y comentarios\n"
     ]
    },
    {
     "data": {
      "image/png": "[encoded data removed]",
      "text/plain": [
       "<Figure size 1000x600 with 1 Axes>"
      ]
     },
     "metadata": {},
     "output_type": "display_data"
    },
    {
     "name": "stdout",
     "output_type": "stream",
     "text": [
      "Canciones más visats por mes\n"
     ]
    },
    {
     "data": {
      "application/vnd.jupyter.widget-view+json": {
       "model_id": "27ecac36b4f540adbb41c6e193efd8ee",
       "version_major": 2,
       "version_minor": 0
      },
      "text/plain": [
       "interactive(children=(IntSlider(value=2020, continuous_update=False, description='Año:', max=2024, min=2020), …"
      ]
     },
     "metadata": {},
     "output_type": "display_data"
    }
   ],
   "source": [
    "def main():\n",
    "    df= pd.read_csv(\"dataset.csv\")\n",
    "    print(\"Gráfica de Hashtags más usados por año\")\n",
    "    top_hashtag(df.copy())\n",
    "    \n",
    "    print(\"Hashtags con más vista por cada mes\")\n",
    "    hash_view_top(df.copy())\n",
    "    print(\"Interacciones por mes y Año\")\n",
    "\n",
    "    interacion(df.copy())\n",
    "\n",
    "    print(\"Interacciones por Año\")\n",
    "    interacion_year(df.copy())\n",
    "\n",
    "    print(\"Relación de engagmente y fans por año\")\n",
    "    engagement_fans(df.copy())\n",
    "\n",
    "    print(\"Promedio de sentimeinto por año y mes\")\n",
    "    sentiment_per(df.copy())\n",
    "\n",
    "    df_video=pd.read_csv('videos_playcount.csv')\n",
    "\n",
    "    print(\"relacion de duración de video por número de interacciones\")\n",
    "    duracion_reaccion(df_video.copy())\n",
    "\n",
    "    print(\"relación de vistas vs comentarios\")\n",
    "    vistas_coments(df.copy())\n",
    "\n",
    "    print(\"Relación de reacciones por comentarios\")\n",
    "\n",
    "    reac_commen(df.copy())\n",
    "\n",
    "    print(\"Relación de seguidores y comentarios\")\n",
    "    Seguido_comen(df.copy())\n",
    "\n",
    "    print(\"Canciones más visats por mes\")\n",
    "    canción_más_vistas_por_mes(df.copy())\n",
    "\n",
    "if __name__ == \"__main__\":\n",
    "    main()"
   ]
  },
  {
   "cell_type": "code",
   "execution_count": null,
   "metadata": {},
   "outputs": [],
   "source": []
  }
 ],
 "metadata": {
  "kernelspec": {
   "display_name": "Python 3",
   "language": "python",
   "name": "python3"
  },
  "language_info": {
   "codemirror_mode": {
    "name": "ipython",
    "version": 3
   },
   "file_extension": ".py",
   "mimetype": "text/x-python",
   "name": "python",
   "nbconvert_exporter": "python",
   "pygments_lexer": "ipython3",
   "version": "3.10.11"
  }
 },
 "nbformat": 4,
 "nbformat_minor": 2
}
