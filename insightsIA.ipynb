{
 "cells": [
  {
   "cell_type": "code",
   "execution_count": 40,
   "metadata": {},
   "outputs": [],
   "source": [
    "import openai \n",
    "import pandas as pd\n",
    "import re\n",
    "from typing import Optional\n",
    "from openai import OpenAI\n",
    "from dotenv import load_dotenv\n",
    "import os\n",
    "\n",
    "load_dotenv()\n",
    "\n",
    "openai_api_key = os.getenv(\"OPENAI_API_KEY\")"
   ]
  },
  {
   "cell_type": "code",
   "execution_count": 3,
   "metadata": {},
   "outputs": [],
   "source": [
    "df1=pd.read_csv(\"processed_data.csv\")\n",
    "df2=pd.read_csv(\"processed_data2.csv\")"
   ]
  },
  {
   "cell_type": "code",
   "execution_count": 6,
   "metadata": {},
   "outputs": [
    {
     "name": "stdout",
     "output_type": "stream",
     "text": [
      "<class 'pandas.core.frame.DataFrame'>\n",
      "RangeIndex: 100 entries, 0 to 99\n",
      "Data columns (total 17 columns):\n",
      " #   Column          Non-Null Count  Dtype \n",
      "---  ------          --------------  ----- \n",
      " 0   text            83 non-null     object\n",
      " 1   webVideoUrl     100 non-null    object\n",
      " 2   diggCount       100 non-null    int64 \n",
      " 3   shareCount      100 non-null    int64 \n",
      " 4   playCount       100 non-null    int64 \n",
      " 5   collectCount    100 non-null    int64 \n",
      " 6   commentCount    100 non-null    int64 \n",
      " 7   duration        100 non-null    int64 \n",
      " 8   musicName       100 non-null    object\n",
      " 9   musicAuthor     100 non-null    object\n",
      " 10  nickName        100 non-null    object\n",
      " 11  fans            100 non-null    int64 \n",
      " 12  hashtags        97 non-null     object\n",
      " 13  hashtag_count   100 non-null    int64 \n",
      " 14  bigrams         100 non-null    object\n",
      " 15  trigrams        100 non-null    object\n",
      " 16  Sentiment_text  100 non-null    object\n",
      "dtypes: int64(8), object(9)\n",
      "memory usage: 13.4+ KB\n"
     ]
    }
   ],
   "source": [
    "df1.info()"
   ]
  },
  {
   "cell_type": "code",
   "execution_count": 5,
   "metadata": {},
   "outputs": [
    {
     "data": {
      "text/html": [
       "<div>\n",
       "<style scoped>\n",
       "    .dataframe tbody tr th:only-of-type {\n",
       "        vertical-align: middle;\n",
       "    }\n",
       "\n",
       "    .dataframe tbody tr th {\n",
       "        vertical-align: top;\n",
       "    }\n",
       "\n",
       "    .dataframe thead th {\n",
       "        text-align: right;\n",
       "    }\n",
       "</style>\n",
       "<table border=\"1\" class=\"dataframe\">\n",
       "  <thead>\n",
       "    <tr style=\"text-align: right;\">\n",
       "      <th></th>\n",
       "      <th>contenido</th>\n",
       "      <th>contenido_limpio</th>\n",
       "      <th>bigrams</th>\n",
       "    </tr>\n",
       "  </thead>\n",
       "  <tbody>\n",
       "    <tr>\n",
       "      <th>0</th>\n",
       "      <td>Ya vamos a hacer rating de las galletas que ve...</td>\n",
       "      <td>vamos hacer rating galletas venden peru aburri...</td>\n",
       "      <td>['vamos hacer', 'hacer rating', 'rating gallet...</td>\n",
       "    </tr>\n",
       "    <tr>\n",
       "      <th>1</th>\n",
       "      <td>Hola chicas, buenas noches. Y de veras que son...</td>\n",
       "      <td>hola chicas buenas noches veras noches 12 noch...</td>\n",
       "      <td>['hola chicas', 'chicas buenas', 'buenas noche...</td>\n",
       "    </tr>\n",
       "    <tr>\n",
       "      <th>2</th>\n",
       "      <td>calificando las galletas de Joy Bakery con mi ...</td>\n",
       "      <td>calificando galletas joy bakery mejor amiga ca...</td>\n",
       "      <td>['calificando galletas', 'galletas joy', 'joy ...</td>\n",
       "    </tr>\n",
       "    <tr>\n",
       "      <th>3</th>\n",
       "      <td>Buenas, cómo andan? Vamos a hacer unas cracke...</td>\n",
       "      <td>buenas com andan vamos hacer unas cracker crac...</td>\n",
       "      <td>['buenas com', 'com andan', 'andan vamos', 'va...</td>\n",
       "    </tr>\n",
       "    <tr>\n",
       "      <th>4</th>\n",
       "      <td>Hoy les enseño a hacer las mejores chocolate c...</td>\n",
       "      <td>hoy enseñ hacer mejores chocolate chip cooky s...</td>\n",
       "      <td>['hoy enseñ', 'enseñ hacer', 'hacer mejores', ...</td>\n",
       "    </tr>\n",
       "  </tbody>\n",
       "</table>\n",
       "</div>"
      ],
      "text/plain": [
       "                                           contenido  \\\n",
       "0  Ya vamos a hacer rating de las galletas que ve...   \n",
       "1  Hola chicas, buenas noches. Y de veras que son...   \n",
       "2  calificando las galletas de Joy Bakery con mi ...   \n",
       "3   Buenas, cómo andan? Vamos a hacer unas cracke...   \n",
       "4  Hoy les enseño a hacer las mejores chocolate c...   \n",
       "\n",
       "                                    contenido_limpio  \\\n",
       "0  vamos hacer rating galletas venden peru aburri...   \n",
       "1  hola chicas buenas noches veras noches 12 noch...   \n",
       "2  calificando galletas joy bakery mejor amiga ca...   \n",
       "3  buenas com andan vamos hacer unas cracker crac...   \n",
       "4  hoy enseñ hacer mejores chocolate chip cooky s...   \n",
       "\n",
       "                                             bigrams  \n",
       "0  ['vamos hacer', 'hacer rating', 'rating gallet...  \n",
       "1  ['hola chicas', 'chicas buenas', 'buenas noche...  \n",
       "2  ['calificando galletas', 'galletas joy', 'joy ...  \n",
       "3  ['buenas com', 'com andan', 'andan vamos', 'va...  \n",
       "4  ['hoy enseñ', 'enseñ hacer', 'hacer mejores', ...  "
      ]
     },
     "execution_count": 5,
     "metadata": {},
     "output_type": "execute_result"
    }
   ],
   "source": [
    "df2.head()"
   ]
  },
  {
   "cell_type": "code",
   "execution_count": 7,
   "metadata": {},
   "outputs": [
    {
     "data": {
      "text/html": [
       "<div>\n",
       "<style scoped>\n",
       "    .dataframe tbody tr th:only-of-type {\n",
       "        vertical-align: middle;\n",
       "    }\n",
       "\n",
       "    .dataframe tbody tr th {\n",
       "        vertical-align: top;\n",
       "    }\n",
       "\n",
       "    .dataframe thead th {\n",
       "        text-align: right;\n",
       "    }\n",
       "</style>\n",
       "<table border=\"1\" class=\"dataframe\">\n",
       "  <thead>\n",
       "    <tr style=\"text-align: right;\">\n",
       "      <th></th>\n",
       "      <th>text</th>\n",
       "      <th>webVideoUrl</th>\n",
       "      <th>diggCount</th>\n",
       "      <th>shareCount</th>\n",
       "      <th>playCount</th>\n",
       "      <th>collectCount</th>\n",
       "      <th>commentCount</th>\n",
       "      <th>duration</th>\n",
       "      <th>musicName</th>\n",
       "      <th>musicAuthor</th>\n",
       "      <th>nickName</th>\n",
       "      <th>fans</th>\n",
       "      <th>hashtags</th>\n",
       "      <th>hashtag_count</th>\n",
       "      <th>bigrams</th>\n",
       "      <th>trigrams</th>\n",
       "      <th>Sentiment_text</th>\n",
       "    </tr>\n",
       "  </thead>\n",
       "  <tbody>\n",
       "    <tr>\n",
       "      <th>0</th>\n",
       "      <td>beautiful blue thought</td>\n",
       "      <td>https://www.tiktok.com/@kerrysbouqcakes/video/...</td>\n",
       "      <td>173800</td>\n",
       "      <td>7256</td>\n",
       "      <td>3000000</td>\n",
       "      <td>15700</td>\n",
       "      <td>313</td>\n",
       "      <td>10</td>\n",
       "      <td>Kulture Klub (Sped up Version)</td>\n",
       "      <td>Lucy Tun</td>\n",
       "      <td>Kerry's Bouqcakes</td>\n",
       "      <td>411000</td>\n",
       "      <td>#beautifulblue #blue #buttercream #buttercream...</td>\n",
       "      <td>17</td>\n",
       "      <td>['beautiful blue', 'blue thought']</td>\n",
       "      <td>['beautiful blue thought']</td>\n",
       "      <td>Positive</td>\n",
       "    </tr>\n",
       "    <tr>\n",
       "      <th>1</th>\n",
       "      <td>whats favourite thing christmas long go certai...</td>\n",
       "      <td>https://www.tiktok.com/@kerrysbouqcakes/video/...</td>\n",
       "      <td>17600</td>\n",
       "      <td>2263</td>\n",
       "      <td>486900</td>\n",
       "      <td>2296</td>\n",
       "      <td>863</td>\n",
       "      <td>49</td>\n",
       "      <td>Christmas</td>\n",
       "      <td>neozilla</td>\n",
       "      <td>Kerry's Bouqcakes</td>\n",
       "      <td>411000</td>\n",
       "      <td>#buttercream #floralcupcakes #floralpiping #cu...</td>\n",
       "      <td>15</td>\n",
       "      <td>['whats favourite', 'favourite thing', 'thing ...</td>\n",
       "      <td>['whats favourite thing', 'favourite thing chr...</td>\n",
       "      <td>Positive</td>\n",
       "    </tr>\n",
       "    <tr>\n",
       "      <th>2</th>\n",
       "      <td>NaN</td>\n",
       "      <td>https://www.tiktok.com/@cupcakesloversv/video/...</td>\n",
       "      <td>10</td>\n",
       "      <td>0</td>\n",
       "      <td>173</td>\n",
       "      <td>0</td>\n",
       "      <td>0</td>\n",
       "      <td>8</td>\n",
       "      <td>Run Free (Original Mix)</td>\n",
       "      <td>Deep Chills</td>\n",
       "      <td>Cupcakes Lover</td>\n",
       "      <td>190</td>\n",
       "      <td>#cupxakes #proceso #cremaverde</td>\n",
       "      <td>3</td>\n",
       "      <td>[]</td>\n",
       "      <td>[]</td>\n",
       "      <td>Neutral</td>\n",
       "    </tr>\n",
       "    <tr>\n",
       "      <th>3</th>\n",
       "      <td>bday ceo konfidinz thanks cupcakesthey taste good</td>\n",
       "      <td>https://www.tiktok.com/@brebre0029/video/74258...</td>\n",
       "      <td>7</td>\n",
       "      <td>1</td>\n",
       "      <td>92</td>\n",
       "      <td>0</td>\n",
       "      <td>3</td>\n",
       "      <td>29</td>\n",
       "      <td>SJAYY Not Like Us FT. Kendrick Lamar</td>\n",
       "      <td>SJAYY</td>\n",
       "      <td>Bre Bre</td>\n",
       "      <td>580</td>\n",
       "      <td>#cupcakelovers #sweets #bdaygirl #bdayqueen #v...</td>\n",
       "      <td>5</td>\n",
       "      <td>['bday ceo', 'ceo konfidinz', 'konfidinz thank...</td>\n",
       "      <td>['bday ceo konfidinz', 'ceo konfidinz thanks',...</td>\n",
       "      <td>Positive</td>\n",
       "    </tr>\n",
       "    <tr>\n",
       "      <th>4</th>\n",
       "      <td>NaN</td>\n",
       "      <td>https://www.tiktok.com/@cupcakesloversv/video/...</td>\n",
       "      <td>257</td>\n",
       "      <td>2</td>\n",
       "      <td>2137</td>\n",
       "      <td>1</td>\n",
       "      <td>0</td>\n",
       "      <td>15</td>\n",
       "      <td>Mega Francesita (Remix)</td>\n",
       "      <td>DJ Dmonio</td>\n",
       "      <td>Cupcakes Lover</td>\n",
       "      <td>190</td>\n",
       "      <td>#pastelespersonalizados #parati #cupcakeslover</td>\n",
       "      <td>3</td>\n",
       "      <td>[]</td>\n",
       "      <td>[]</td>\n",
       "      <td>Neutral</td>\n",
       "    </tr>\n",
       "  </tbody>\n",
       "</table>\n",
       "</div>"
      ],
      "text/plain": [
       "                                                text  \\\n",
       "0                             beautiful blue thought   \n",
       "1  whats favourite thing christmas long go certai...   \n",
       "2                                                NaN   \n",
       "3  bday ceo konfidinz thanks cupcakesthey taste good   \n",
       "4                                                NaN   \n",
       "\n",
       "                                         webVideoUrl  diggCount  shareCount  \\\n",
       "0  https://www.tiktok.com/@kerrysbouqcakes/video/...     173800        7256   \n",
       "1  https://www.tiktok.com/@kerrysbouqcakes/video/...      17600        2263   \n",
       "2  https://www.tiktok.com/@cupcakesloversv/video/...         10           0   \n",
       "3  https://www.tiktok.com/@brebre0029/video/74258...          7           1   \n",
       "4  https://www.tiktok.com/@cupcakesloversv/video/...        257           2   \n",
       "\n",
       "   playCount  collectCount  commentCount  duration  \\\n",
       "0    3000000         15700           313        10   \n",
       "1     486900          2296           863        49   \n",
       "2        173             0             0         8   \n",
       "3         92             0             3        29   \n",
       "4       2137             1             0        15   \n",
       "\n",
       "                              musicName  musicAuthor           nickName  \\\n",
       "0        Kulture Klub (Sped up Version)     Lucy Tun  Kerry's Bouqcakes   \n",
       "1                             Christmas     neozilla  Kerry's Bouqcakes   \n",
       "2               Run Free (Original Mix)  Deep Chills     Cupcakes Lover   \n",
       "3  SJAYY Not Like Us FT. Kendrick Lamar        SJAYY            Bre Bre   \n",
       "4               Mega Francesita (Remix)    DJ Dmonio     Cupcakes Lover   \n",
       "\n",
       "     fans                                           hashtags  hashtag_count  \\\n",
       "0  411000  #beautifulblue #blue #buttercream #buttercream...             17   \n",
       "1  411000  #buttercream #floralcupcakes #floralpiping #cu...             15   \n",
       "2     190                     #cupxakes #proceso #cremaverde              3   \n",
       "3     580  #cupcakelovers #sweets #bdaygirl #bdayqueen #v...              5   \n",
       "4     190     #pastelespersonalizados #parati #cupcakeslover              3   \n",
       "\n",
       "                                             bigrams  \\\n",
       "0                 ['beautiful blue', 'blue thought']   \n",
       "1  ['whats favourite', 'favourite thing', 'thing ...   \n",
       "2                                                 []   \n",
       "3  ['bday ceo', 'ceo konfidinz', 'konfidinz thank...   \n",
       "4                                                 []   \n",
       "\n",
       "                                            trigrams Sentiment_text  \n",
       "0                         ['beautiful blue thought']       Positive  \n",
       "1  ['whats favourite thing', 'favourite thing chr...       Positive  \n",
       "2                                                 []        Neutral  \n",
       "3  ['bday ceo konfidinz', 'ceo konfidinz thanks',...       Positive  \n",
       "4                                                 []        Neutral  "
      ]
     },
     "execution_count": 7,
     "metadata": {},
     "output_type": "execute_result"
    }
   ],
   "source": [
    "df1.head()"
   ]
  },
  {
   "cell_type": "markdown",
   "metadata": {},
   "source": [
    "## Recomendaciones de descripciones\n",
    "En este apartado mandaremos el dataframe1 y filtrará por vistas los videos y hará una recomendación sobre cual seria la descripción ideal"
   ]
  },
  {
   "cell_type": "code",
   "execution_count": null,
   "metadata": {},
   "outputs": [
    {
     "name": "stdout",
     "output_type": "stream",
     "text": [
      "¡Descubre la magia de los cupcakes! 🍰✨ Aprende a hacer dulces irresistibles desde la comodidad de tu hogar. Sigue nuestro tutorial y sorprende a tus seres queridos con creaciones deliciosas. ¡No te lo pierdas! #CupcakeLover #DulceMomento\n"
     ]
    }
   ],
   "source": [
    "def recomendacion_descripcion(df: pd.DataFrame, cantidad: int, api:str ) -> str:\n",
    "    \n",
    "    df_filter=df[df[\"playCount\"]>cantidad]\n",
    "    # print(len(df_filter))\n",
    "    text = \" \".join(df_filter[\"text\"].astype(str).values)\n",
    "    \n",
    "    api_key = api\n",
    "\n",
    "    client = OpenAI(api_key=api_key)        \n",
    "    try:\n",
    "        response = client.chat.completions.create(\n",
    "            model=\"gpt-4o-mini\",\n",
    "            messages=[\n",
    "                {\"role\": \"system\", \"content\": \"you are in charge of the marketing sector\"},\n",
    "                {\"role\": \"user\", \"content\": f\"Below you have all the descriptions of videos that have a number of views greater than {cantidad}, which is the following {text}, I want you to analyze everything and return me the ideal description to create a high-impact video that produces great number of views. (Give me the description in Spanish please)(It is a description of tiktok, it should not be large in size)The characters should not exceed 50-100 [just give me the description, don't give me any more extra]\"}\n",
    "            ],\n",
    "            \n",
    "        )\n",
    "        return response.choices[0].message.content\n",
    "    except Exception as e:\n",
    "        return f\"Error: {str(e)}\"\n",
    "    \n",
    "\n",
    "recomendacion=recomendacion_descripcion(df1,10000,openai_api_key)\n",
    "print(recomendacion)"
   ]
  },
  {
   "cell_type": "markdown",
   "metadata": {},
   "source": [
    "## Ideas principales de los videos"
   ]
  },
  {
   "cell_type": "code",
   "execution_count": 31,
   "metadata": {},
   "outputs": [
    {
     "name": "stdout",
     "output_type": "stream",
     "text": [
      "['Cupcakes personalizados y deliciosos, incluyendo recetas y tutoriales para hacer cupcakes en casa.', 'Celebraciones y ocasiones especiales relacionadas con los cupcakes, como el Día Nacional del Amante de los Cupcakes y el Día de San Valentín.', 'Consejos y técnicas de decoración de cupcakes, incluyendo el uso de buttercream y técnicas de piping.']\n"
     ]
    }
   ],
   "source": [
    "def ideas_principales(df: pd.DataFrame, cantidad: int ,num_ideas: int,api:str) -> str:\n",
    "    \n",
    "    df_filter=df[df[\"playCount\"]>cantidad]\n",
    "    # print(len(df_filter))\n",
    "    text = \" \".join(df_filter[\"text\"].astype(str).values)\n",
    "    \n",
    "    api_key = api\n",
    "\n",
    "    client = OpenAI(api_key=api_key)        \n",
    "    try:\n",
    "        response = client.chat.completions.create(\n",
    "            model=\"gpt-4o-mini\",\n",
    "            messages=[\n",
    "                {\"role\": \"system\", \"content\": \"you are in charge of the marketing sector\"},\n",
    "                {\"role\": \"user\", \"content\": f\"Below you have all the descriptions of videos that have a number of views greater than {cantidad}, which is the following {text},I want you to analyze these descriptions and tell me what are the {num_ideas} main ideas that the videos have(Give me the description in Spanish please)[I want you to put it in this format ['idea1','idea2', etc]]\"}\n",
    "            ],\n",
    "            \n",
    "        )\n",
    "        return response.choices[0].message.content\n",
    "    except Exception as e:\n",
    "        return f\"Error: {str(e)}\"\n",
    "\n",
    "ideas_prin=ideas_principales(df1,10000,3,openai_api_key)\n",
    "print(ideas_prin)"
   ]
  },
  {
   "cell_type": "markdown",
   "metadata": {},
   "source": [
    "## Hashtags ideales"
   ]
  },
  {
   "cell_type": "code",
   "execution_count": null,
   "metadata": {},
   "outputs": [
    {
     "name": "stdout",
     "output_type": "stream",
     "text": [
      "['#buttercream', '#cupcakeinspo', '#edibleart']\n"
     ]
    }
   ],
   "source": [
    "def hashtags_ideales(df: pd.DataFrame, cantidad: int, num_hash: int, api: str) -> list:\n",
    "    \n",
    "    df_filter = df[df[\"playCount\"] > cantidad]\n",
    "    hashtags = \"|\".join(df_filter[\"hashtags\"].astype(str).values)\n",
    "    views = \"|\".join(df_filter[\"playCount\"].astype(str).values)\n",
    "    \n",
    "    client = OpenAI(api_key=api)\n",
    "    \n",
    "    try:\n",
    "        response = client.chat.completions.create(\n",
    "            model=\"gpt-4o-mini\",\n",
    "            messages=[\n",
    "                {\"role\": \"system\", \"content\": \"You are a hashtag analysis assistant.\"},\n",
    "                {\"role\": \"user\", \"content\": f\"Provide only a list of the top {num_hash} most impactful hashtags based on this data: views {views} and hashtags {hashtags} [hashtags per video are separated by '|']. Output only in this format: ['hashtag1', 'hashtag2', ...]\"}\n",
    "            ]\n",
    "        )\n",
    "        return eval(response.choices[0].message.content.strip())\n",
    "    except Exception as e:\n",
    "        return f\"Error: {str(e)}\"\n",
    "\n",
    "hashtags = hashtags_ideales(df1, 10000, 3, openai_api_key)\n",
    "\n",
    "print(hashtags)\n",
    "\n"
   ]
  },
  {
   "cell_type": "markdown",
   "metadata": {},
   "source": [
    "## Ideas principales basadas en transcripción"
   ]
  },
  {
   "cell_type": "code",
   "execution_count": 43,
   "metadata": {},
   "outputs": [
    {
     "name": "stdout",
     "output_type": "stream",
     "text": [
      "['Calificación de galletas populares en Perú', 'Recetas de galletas caseras, saludables y fáciles de preparar', 'Ideas creativas para ocasiones especiales y decoración de galletas']\n"
     ]
    }
   ],
   "source": [
    "def ideas_principales2(df: pd.DataFrame, num_ideas: int,api:str) -> str:\n",
    "    \n",
    "\n",
    "    text = \"|\".join(df[\"contenido_limpio\"].astype(str).values)\n",
    "    \n",
    "    api_key = api\n",
    "\n",
    "    client = OpenAI(api_key=api_key)        \n",
    "    try:\n",
    "        response = client.chat.completions.create(\n",
    "            model=\"gpt-4o-mini\",\n",
    "            messages=[\n",
    "                {\"role\": \"system\", \"content\": \"you are in charge of the marketing sector\"},\n",
    "                {\"role\": \"user\", \"content\": f\"Below you have all the transcripts of the videos that have a good number of views, these are the transcripts of the video {text} [they are separated by the transcripts from each other with '|'], I want you to analyze these transcripts and tell me which ones They are the {num_ideas} main ideas that the videos have (Give me the description in Spanish please) [I want you to put it in this format ['idea1','idea2', etc]]\"}\n",
    "            ],\n",
    "            \n",
    "        )\n",
    "        return response.choices[0].message.content\n",
    "    except Exception as e:\n",
    "        return f\"Error: {str(e)}\"\n",
    "\n",
    "ideas_prin2=ideas_principales2(df2,3,openai_api_key)\n",
    "print(ideas_prin2)"
   ]
  },
  {
   "cell_type": "markdown",
   "metadata": {},
   "source": [
    "## Ideas para videos"
   ]
  },
  {
   "cell_type": "code",
   "execution_count": 44,
   "metadata": {},
   "outputs": [
    {
     "name": "stdout",
     "output_type": "stream",
     "text": [
      "['Comparación de galletas: Haremos una degustación de diferentes tipos de galletas peruanas y clasificaremos las mejores según su sabor y textura. ¡Vamos a descubrir cuál es la favorita de todos!', 'Receta de galletas saludables: Compartiré una receta fácil y rápida para hacer galletas de avena y pasas, perfectas para un snack saludable. ¡No te lo pierdas!', 'Decoración de galletas temáticas: Organizaré un desafío de decoración de galletas para Halloween, donde usaré diferentes técnicas y materiales para hacer galletas que se vean espeluznantes y deliciosas. ¡Acompáñame y diviértete creando!']\n"
     ]
    }
   ],
   "source": [
    "def ideas_video(df: pd.DataFrame, num_ideas: int,api:str) -> str:\n",
    "    \n",
    "\n",
    "    text = \"|\".join(df[\"contenido_limpio\"].astype(str).values)\n",
    "    \n",
    "    api_key = api\n",
    "\n",
    "    client = OpenAI(api_key=api_key)        \n",
    "    try:\n",
    "        response = client.chat.completions.create(\n",
    "            model=\"gpt-4o-mini\",\n",
    "            messages=[\n",
    "                {\"role\": \"system\", \"content\": \"you are in charge of the marketing sector\"},\n",
    "                {\"role\": \"user\", \"content\": f\"Below you have all the transcripts of the videos that have a good number of views, these are the transcripts of the video {text} [they are separated by the transcripts from each other with '|'], I want you to analyze the descriptions and give me this many ideas {num_ideas} for future tik tok videos (Give me the description in Spanish please) [I want you to put it in this format ['idea1','idea2', etc]]\"}\n",
    "            ],\n",
    "            \n",
    "        )\n",
    "        return response.choices[0].message.content\n",
    "    except Exception as e:\n",
    "        return f\"Error: {str(e)}\"\n",
    "\n",
    "ideas=ideas_video(df2,3,openai_api_key)\n",
    "print(ideas)"
   ]
  },
  {
   "cell_type": "markdown",
   "metadata": {},
   "source": [
    "## Idea de Guion"
   ]
  },
  {
   "cell_type": "code",
   "execution_count": 45,
   "metadata": {},
   "outputs": [
    {
     "name": "stdout",
     "output_type": "stream",
     "text": [
      "**Título del Video: \"¡Las 5 Mejores Recetas de Cupcakes Navideños que Debes Probar!\"**\n",
      "\n",
      "**Descripción (en español):**\n",
      "\n",
      "\"¡Hola, amigos de TikTok! 🎄✨ En este video, nos vamos a adentrar en el delicioso mundo de los cupcakes navideños. Vamos a preparar 5 variantes irresistibles que llenarán de sabor y alegría tu mesa estas fiestas. \n",
      "\n",
      "1. **Cupcake de Jengibre**: Una mezcla perfecta de especias, que te hará sentir como si estuvieras en el centro de una feria navideña.\n",
      "   \n",
      "2. **Cupcake de Chocolate con Relleno de Dulce de Leche**: Para los amantes del chocolate, un cupcake esponjoso con una sorpresa dulce en su interior que dejará a todos pidiendo más.\n",
      "\n",
      "3. **Cupcake de Vainilla con Glaseado de Mantequilla de Nuez**: Un clásico que nunca pasa de moda, con un toque especial para hacerlo aún más festivo.\n",
      "\n",
      "4. **Cupcake de Naranja y Canela**: Con un sabor fresco y especiado, recordará a los mejores días de invierno y celebraciones familiares.\n",
      "\n",
      "5. **Cupcake de Red Velvet con Crema de Queso**: Este elegante cupcake será el protagonista de cualquier mesa de postres. ¡Su color y sabor deslumbrarán a todos!\n",
      "\n",
      "No te olvides de seguirme para más recetas increíbles y comparte tus versiones de estas delicias navideñas usando el hashtag #CupcakesNavideños. ¡Vamos a hornear juntos! 🎉🧁\"\n",
      "\n",
      "**Idea de Estilo del Video:**\n",
      "Puedes empezar el video con música navideña de fondo, mostrando rápidamente los ingredientes en cada sección. Durante la preparación, utiliza tomas creativas y divertidas que muestren el proceso, desde mezclar ingredientes hasta decorar cada cupcake. Al final, haz una pequeña degustación y anima a tus seguidores a probar las recetas en casa. ¡Hazlo festivo y divertido!\n"
     ]
    }
   ],
   "source": [
    "def idea_guion(df: pd.DataFrame,topic:str, api:str) -> str:\n",
    "    \n",
    "\n",
    "    text = \"|\".join(df[\"contenido_limpio\"].astype(str).values)\n",
    "    \n",
    "    api_key = api\n",
    "\n",
    "    client = OpenAI(api_key=api_key)        \n",
    "    try:\n",
    "        response = client.chat.completions.create(\n",
    "            model=\"gpt-4o-mini\",\n",
    "            messages=[\n",
    "                {\"role\": \"system\", \"content\": \"you are in charge of the marketing sector\"},\n",
    "                {\"role\": \"user\", \"content\": f\"Below you have all the transcripts of the videos that have a good number of views, these are the transcripts of the video {text} [they are separated by the transcripts from each other with '|'], I want you to analyze the descriptions and give me a script idea for a future TikTok video that I want to make that is a little related to this topic {topic}(Give me the description in Spanish please)\"}\n",
    "            ],\n",
    "            \n",
    "        )\n",
    "        return response.choices[0].message.content\n",
    "    except Exception as e:\n",
    "        return f\"Error: {str(e)}\"\n",
    "tema=\"cupcakes de navidad\"\n",
    "guion=idea_guion(df2,tema,openai_api_key)\n",
    "print(guion)"
   ]
  },
  {
   "cell_type": "markdown",
   "metadata": {},
   "source": [
    "## Dame un Resumen general de los videos"
   ]
  },
  {
   "cell_type": "code",
   "execution_count": 47,
   "metadata": {},
   "outputs": [
    {
     "name": "stdout",
     "output_type": "stream",
     "text": [
      "Los videos analizados tienen como tema central las galletas, destacando diversas recetas, comparaciones, valoraciones y experiencias relacionadas con ellas. En el primer grupo, se califica y enumera diferentes galletas disponibles en Perú, mencionando marcas y preferencias personales, como galletas de avena, chispas de chocolate y rellenas, resaltando su sabor y popularidad entre los consumidores. Algunos videos se centran en recetas caseras, donde los creadores comparten pasos específicos para hacer galletas saludables, utilizando ingredientes como avena, mantequilla, y edulcorantes naturales. Se exhiben diversas técnicas, como el uso de semillas como sustituto de huevo y métodos para lograr la textura perfecta en las galletas.\n",
      "\n",
      "También se presentan videos donde se realizan competencias de degustación, valorando la presentación y el sabor de galletas compradas en tiendas, así como tutoriales sobre cómo preparar galletas temáticas, como las de Halloween. Otros segmentos incluyen consejos para disfrutar de las galletas calientes, y algunas recetas rápidas que se pueden realizar en minutos. La comunidad parece estar interesada en la combinación de recetas tradicionales y giros modernos, buscando opciones que se adapten a diversas preferencias alimenticias. En general, estos videos reflejan una gran pasión por las galletas, tanto en su preparación como en su degustación, promoviendo un estilo de vida que mezcla la cocina casera con la exploración de productos del mercado.\n"
     ]
    }
   ],
   "source": [
    "def resumen(df: pd.DataFrame, api:str) -> str:\n",
    "    \n",
    "\n",
    "    text = \"|\".join(df[\"contenido_limpio\"].astype(str).values)\n",
    "    \n",
    "    api_key = api\n",
    "\n",
    "    client = OpenAI(api_key=api_key)        \n",
    "    try:\n",
    "        response = client.chat.completions.create(\n",
    "            model=\"gpt-4o-mini\",\n",
    "            messages=[\n",
    "                {\"role\": \"system\", \"content\": \"you are in charge of the marketing sector\"},\n",
    "                {\"role\": \"user\", \"content\": f\"Below you have all the transcripts of the videos that have a good number of views, these are the transcripts of the video {text} [they are separated by the transcripts from each other with '|'], I want you to analyze the transcripts and give me a general summary of the videos(Give me the description in Spanish please)[in paragraph format]\"}\n",
    "            ],\n",
    "            \n",
    "        )\n",
    "        return response.choices[0].message.content\n",
    "    except Exception as e:\n",
    "        return f\"Error: {str(e)}\"\n",
    "\n",
    "resumen=resumen(df2,openai_api_key)\n",
    "print(resumen)"
   ]
  },
  {
   "cell_type": "markdown",
   "metadata": {},
   "source": [
    "## Insight personalizado"
   ]
  },
  {
   "cell_type": "code",
   "execution_count": null,
   "metadata": {},
   "outputs": [
    {
     "name": "stderr",
     "output_type": "stream",
     "text": [
      "2024-11-06 08:39:27,629 INFO: HTTP Request: POST https://api.openai.com/v1/chat/completions \"HTTP/1.1 200 OK\"\n",
      "2024-11-06 08:40:00,231 INFO: HTTP Request: POST https://api.openai.com/v1/chat/completions \"HTTP/1.1 200 OK\"\n"
     ]
    },
    {
     "name": "stdout",
     "output_type": "stream",
     "text": [
      "{'analysis': 'Claro, aquí tienes un análisis de los datos presentados sobre videos relacionados con cupcakes y temas relacionados, así como algunas ideas para futuros videos:\\n\\n### Análisis de los Datos\\n\\n1. **Temática de los Videos**:\\n   - La mayoría de los videos se centran en la decoración de cupcakes, recetas y recomendaciones de productos relacionados con la repostería, especialmente cupcakes gourmet.\\n   - Los hashtags utilizados son muy variados, pero algunos de los más recurrentes son: #cupcake, #baking, #buttercream, #chocolatelover, y #dessert.\\n\\n2. **Sentimiento del Contenido**:\\n   - La mayoría de los videos tienen una connotación positiva, lo que sugiere que los creadores están transmitiendo experiencias agradables, ya sea por la creatividad del proceso de hornear o la satisfacción de degustar los productos.\\n   - Un pequeño porcentaje de los videos presenta una perspectiva neutral o negativa, lo que podría indicar ciertas críticas o comentarios menos entusiastas.\\n\\n3. **Engagement en Redes Sociales**:\\n   - Videos con un alto número de interacciones (diggCount, shareCount y commentCount) a menudo utilizan elementos atractivos visualmente, como decoraciones elaboradas o recetas únicas.\\n   - La elección de música también parece influir en la popularidad de algunos videos, lo que indica que una buena selección musical puede ayudar a aumentar el interés y la participación del público.\\n\\n### Ideas para Futuros Videos\\n\\n1. **Tutoriales de Decoración de Cupcakes**: Crear una serie de tutoriales donde se enseñe a los espectadores a decorar cupcakes con diferentes temáticas (como fiestas de cumpleaños, Halloween, Navidad, etc.).\\n\\n2. **Recetas Innovadoras**: Presentar recetas de cupcakes que incorporen ingredientes poco comunes o que se alineen con tendencias actuales (como cupcakes veganos o sin gluten).\\n\\n3. **Retos de Cupcakes**: Proponer desafíos para los seguidores, como hacer cupcakes con ingredientes sorpresa o en un tiempo limitado, y luego compartir los resultados.\\n\\n4. **Colaboraciones con Otros Creadores**: Hacer videos en colaboración con otros tiktokers o influencers en el ámbito de la repostería para atraer a nuevas audiencias y compartir técnicas.\\n\\n5. **Historias Personales**: Compartir historias o anécdotas personales relacionadas con el pastelero o la repostería, lo que puede ayudar a conectar mejor con la audiencia.\\n\\n6. **Análisis de Productos**: Hacer reseñas de productos de repostería, como utensilios, ingredientes o decoraciones, y mostrar cómo usarlos de manera efectiva en la práctica.\\n\\n7. **Tendencias de Repostería**: Investigar y presentar tendencias emergentes en el mundo de la repostería y cómo los seguidores pueden incorporarlas en sus propias creaciones.\\n\\nEstas ideas podrían inspirar a crear contenido atractivo que siga captando la atención de los amantes de los cupcakes y la repostería en general.', 'num_columns': 11, 'num_rows': 100}\n"
     ]
    }
   ],
   "source": [
    "import pandas as pd\n",
    "from openai import OpenAI\n",
    "import logging\n",
    "\n",
    "logging.basicConfig(level=logging(Give me the description in Spanish please).INFO, format='%(asctime)s %(levelname)s: %(message)s')\n",
    "\n",
    "def columnas_ideales(df: pd.DataFrame, peticion: str, api_key: str) -> list:\n",
    "    \n",
    "    columnas = list(df.columns)\n",
    "    client = OpenAI(api_key=api_key)\n",
    "\n",
    "    try:\n",
    "        response = client.chat.completions.create(\n",
    "            model=\"gpt-4o-mini\",\n",
    "            messages=[\n",
    "                {\"role\": \"system\", \"content\": \"You are a data analysis assistant.\"},\n",
    "                {\"role\": \"user\", \"content\": f\"Here are the columns: {columnas}. Please suggest the best columns for this request: '{peticion}'. Only return them as a Python list in this format: ['column1', 'column2', ...]. No additional explanation.\"}\n",
    "            ]\n",
    "        )\n",
    "        recommended_columns = eval(response.choices[0].message.content.strip())\n",
    "        return recommended_columns\n",
    "    except Exception as e:\n",
    "        logging.error(f\"Error in columnas_ideales: {str(e)}\")\n",
    "        return []\n",
    "\n",
    "def peticion_personalizada(df: pd.DataFrame, peticion: str, api_key: str) -> dict:\n",
    "    \n",
    "    columnas_recomendadas = columnas_ideales(df, peticion, api_key)\n",
    "\n",
    "    existing_cols = [col for col in columnas_recomendadas if col in df.columns]\n",
    "\n",
    "    if not existing_cols:\n",
    "        return {\"analysis\": \"Error: The provided DataFrame is empty. Please provide a non-empty DataFrame to analyze.\", \"num_columns\": 0, \"num_rows\": 0}\n",
    "\n",
    "    df_recomendado = df[existing_cols]\n",
    "    info_columnas = df_recomendado.to_string(index=False)\n",
    "\n",
    "    client = OpenAI(api_key=api_key)\n",
    "    try:\n",
    "        response = client.chat.completions.create(\n",
    "            model=\"gpt-4o-mini\",\n",
    "            messages=[\n",
    "                {\"role\": \"system\", \"content\": \"You are a data analysis assistant.\"},\n",
    "                {\"role\": \"user\", \"content\": f\"Here is data for the relevant columns for this request: '{peticion}'.\\n\\n{info_columnas}\\n\\nPlease provide an analysis or insights based on this data.(Give me the description in Spanish please)\"}\n",
    "            ]\n",
    "        )\n",
    "        analysis = response.choices[0].message.content\n",
    "        return {\"analysis\": analysis, \"num_columns\": len(existing_cols), \"num_rows\": len(df_recomendado)}\n",
    "    except Exception as e:\n",
    "        logging.error(f\"Error in peticion_personalizada: {str(e)}\")\n",
    "        return {\"analysis\": \"Error: Unable to perform analysis.\", \"num_columns\": 0, \"num_rows\": 0}\n",
    "\n",
    "\n",
    "peticion=\"quiero que me digas que topicos puedo hacer para mis futuros videos\"\n",
    "peticion_perso=peticion_personalizada(df1,peticion,openai_api_key)\n",
    "print(peticion_perso)"
   ]
  },
  {
   "cell_type": "code",
   "execution_count": null,
   "metadata": {},
   "outputs": [],
   "source": []
  }
 ],
 "metadata": {
  "kernelspec": {
   "display_name": "Python 3",
   "language": "python",
   "name": "python3"
  },
  "language_info": {
   "codemirror_mode": {
    "name": "ipython",
    "version": 3
   },
   "file_extension": ".py",
   "mimetype": "text/x-python",
   "name": "python",
   "nbconvert_exporter": "python",
   "pygments_lexer": "ipython3",
   "version": "3.10.11"
  }
 },
 "nbformat": 4,
 "nbformat_minor": 2
}
