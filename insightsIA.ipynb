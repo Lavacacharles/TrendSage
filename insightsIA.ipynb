{
 "cells": [
  {
   "cell_type": "code",
   "execution_count": 4,
   "metadata": {},
   "outputs": [],
   "source": [
    "import openai \n",
    "import pandas as pd\n",
    "import re\n",
    "from typing import Optional\n",
    "from openai import OpenAI\n",
    "from dotenv import load_dotenv\n",
    "import os\n",
    "\n",
    "load_dotenv()\n",
    "\n",
    "openai_api_key = os.getenv(\"OPENAI_API_KEY\")\n",
    "client = openai.OpenAI(api_key=openai_api_key)"
   ]
  },
  {
   "cell_type": "code",
   "execution_count": 5,
   "metadata": {},
   "outputs": [],
   "source": [
    "df1=pd.read_csv(\"processed_data.csv\")\n",
    "df2=pd.read_csv(\"processed_data2.csv\")"
   ]
  },
  {
   "cell_type": "code",
   "execution_count": 6,
   "metadata": {},
   "outputs": [
    {
     "name": "stdout",
     "output_type": "stream",
     "text": [
      "<class 'pandas.core.frame.DataFrame'>\n",
      "RangeIndex: 100 entries, 0 to 99\n",
      "Data columns (total 17 columns):\n",
      " #   Column          Non-Null Count  Dtype \n",
      "---  ------          --------------  ----- \n",
      " 0   text            83 non-null     object\n",
      " 1   webVideoUrl     100 non-null    object\n",
      " 2   diggCount       100 non-null    int64 \n",
      " 3   shareCount      100 non-null    int64 \n",
      " 4   playCount       100 non-null    int64 \n",
      " 5   collectCount    100 non-null    int64 \n",
      " 6   commentCount    100 non-null    int64 \n",
      " 7   duration        100 non-null    int64 \n",
      " 8   musicName       100 non-null    object\n",
      " 9   musicAuthor     100 non-null    object\n",
      " 10  nickName        100 non-null    object\n",
      " 11  fans            100 non-null    int64 \n",
      " 12  hashtags        97 non-null     object\n",
      " 13  hashtag_count   100 non-null    int64 \n",
      " 14  bigrams         100 non-null    object\n",
      " 15  trigrams        100 non-null    object\n",
      " 16  Sentiment_text  100 non-null    object\n",
      "dtypes: int64(8), object(9)\n",
      "memory usage: 13.4+ KB\n"
     ]
    }
   ],
   "source": [
    "df1.info()"
   ]
  },
  {
   "cell_type": "code",
   "execution_count": 7,
   "metadata": {},
   "outputs": [
    {
     "data": {
      "text/html": [
       "<div>\n",
       "<style scoped>\n",
       "    .dataframe tbody tr th:only-of-type {\n",
       "        vertical-align: middle;\n",
       "    }\n",
       "\n",
       "    .dataframe tbody tr th {\n",
       "        vertical-align: top;\n",
       "    }\n",
       "\n",
       "    .dataframe thead th {\n",
       "        text-align: right;\n",
       "    }\n",
       "</style>\n",
       "<table border=\"1\" class=\"dataframe\">\n",
       "  <thead>\n",
       "    <tr style=\"text-align: right;\">\n",
       "      <th></th>\n",
       "      <th>contenido</th>\n",
       "      <th>contenido_limpio</th>\n",
       "      <th>bigrams</th>\n",
       "    </tr>\n",
       "  </thead>\n",
       "  <tbody>\n",
       "    <tr>\n",
       "      <th>0</th>\n",
       "      <td>Ya vamos a hacer rating de las galletas que ve...</td>\n",
       "      <td>vamos hacer rating galletas venden peru aburri...</td>\n",
       "      <td>['vamos hacer', 'hacer rating', 'rating gallet...</td>\n",
       "    </tr>\n",
       "    <tr>\n",
       "      <th>1</th>\n",
       "      <td>Hola chicas, buenas noches. Y de veras que son...</td>\n",
       "      <td>hola chicas buenas noches veras noches 12 noch...</td>\n",
       "      <td>['hola chicas', 'chicas buenas', 'buenas noche...</td>\n",
       "    </tr>\n",
       "    <tr>\n",
       "      <th>2</th>\n",
       "      <td>calificando las galletas de Joy Bakery con mi ...</td>\n",
       "      <td>calificando galletas joy bakery mejor amiga ca...</td>\n",
       "      <td>['calificando galletas', 'galletas joy', 'joy ...</td>\n",
       "    </tr>\n",
       "    <tr>\n",
       "      <th>3</th>\n",
       "      <td>Buenas, cómo andan? Vamos a hacer unas cracke...</td>\n",
       "      <td>buenas com andan vamos hacer unas cracker crac...</td>\n",
       "      <td>['buenas com', 'com andan', 'andan vamos', 'va...</td>\n",
       "    </tr>\n",
       "    <tr>\n",
       "      <th>4</th>\n",
       "      <td>Hoy les enseño a hacer las mejores chocolate c...</td>\n",
       "      <td>hoy enseñ hacer mejores chocolate chip cooky s...</td>\n",
       "      <td>['hoy enseñ', 'enseñ hacer', 'hacer mejores', ...</td>\n",
       "    </tr>\n",
       "  </tbody>\n",
       "</table>\n",
       "</div>"
      ],
      "text/plain": [
       "                                           contenido  \\\n",
       "0  Ya vamos a hacer rating de las galletas que ve...   \n",
       "1  Hola chicas, buenas noches. Y de veras que son...   \n",
       "2  calificando las galletas de Joy Bakery con mi ...   \n",
       "3   Buenas, cómo andan? Vamos a hacer unas cracke...   \n",
       "4  Hoy les enseño a hacer las mejores chocolate c...   \n",
       "\n",
       "                                    contenido_limpio  \\\n",
       "0  vamos hacer rating galletas venden peru aburri...   \n",
       "1  hola chicas buenas noches veras noches 12 noch...   \n",
       "2  calificando galletas joy bakery mejor amiga ca...   \n",
       "3  buenas com andan vamos hacer unas cracker crac...   \n",
       "4  hoy enseñ hacer mejores chocolate chip cooky s...   \n",
       "\n",
       "                                             bigrams  \n",
       "0  ['vamos hacer', 'hacer rating', 'rating gallet...  \n",
       "1  ['hola chicas', 'chicas buenas', 'buenas noche...  \n",
       "2  ['calificando galletas', 'galletas joy', 'joy ...  \n",
       "3  ['buenas com', 'com andan', 'andan vamos', 'va...  \n",
       "4  ['hoy enseñ', 'enseñ hacer', 'hacer mejores', ...  "
      ]
     },
     "execution_count": 7,
     "metadata": {},
     "output_type": "execute_result"
    }
   ],
   "source": [
    "df2.head()"
   ]
  },
  {
   "cell_type": "code",
   "execution_count": 8,
   "metadata": {},
   "outputs": [
    {
     "data": {
      "text/html": [
       "<div>\n",
       "<style scoped>\n",
       "    .dataframe tbody tr th:only-of-type {\n",
       "        vertical-align: middle;\n",
       "    }\n",
       "\n",
       "    .dataframe tbody tr th {\n",
       "        vertical-align: top;\n",
       "    }\n",
       "\n",
       "    .dataframe thead th {\n",
       "        text-align: right;\n",
       "    }\n",
       "</style>\n",
       "<table border=\"1\" class=\"dataframe\">\n",
       "  <thead>\n",
       "    <tr style=\"text-align: right;\">\n",
       "      <th></th>\n",
       "      <th>text</th>\n",
       "      <th>webVideoUrl</th>\n",
       "      <th>diggCount</th>\n",
       "      <th>shareCount</th>\n",
       "      <th>playCount</th>\n",
       "      <th>collectCount</th>\n",
       "      <th>commentCount</th>\n",
       "      <th>duration</th>\n",
       "      <th>musicName</th>\n",
       "      <th>musicAuthor</th>\n",
       "      <th>nickName</th>\n",
       "      <th>fans</th>\n",
       "      <th>hashtags</th>\n",
       "      <th>hashtag_count</th>\n",
       "      <th>bigrams</th>\n",
       "      <th>trigrams</th>\n",
       "      <th>Sentiment_text</th>\n",
       "    </tr>\n",
       "  </thead>\n",
       "  <tbody>\n",
       "    <tr>\n",
       "      <th>0</th>\n",
       "      <td>beautiful blue thought</td>\n",
       "      <td>https://www.tiktok.com/@kerrysbouqcakes/video/...</td>\n",
       "      <td>173800</td>\n",
       "      <td>7256</td>\n",
       "      <td>3000000</td>\n",
       "      <td>15700</td>\n",
       "      <td>313</td>\n",
       "      <td>10</td>\n",
       "      <td>Kulture Klub (Sped up Version)</td>\n",
       "      <td>Lucy Tun</td>\n",
       "      <td>Kerry's Bouqcakes</td>\n",
       "      <td>411000</td>\n",
       "      <td>#beautifulblue #blue #buttercream #buttercream...</td>\n",
       "      <td>17</td>\n",
       "      <td>['beautiful blue', 'blue thought']</td>\n",
       "      <td>['beautiful blue thought']</td>\n",
       "      <td>Positive</td>\n",
       "    </tr>\n",
       "    <tr>\n",
       "      <th>1</th>\n",
       "      <td>whats favourite thing christmas long go certai...</td>\n",
       "      <td>https://www.tiktok.com/@kerrysbouqcakes/video/...</td>\n",
       "      <td>17600</td>\n",
       "      <td>2263</td>\n",
       "      <td>486900</td>\n",
       "      <td>2296</td>\n",
       "      <td>863</td>\n",
       "      <td>49</td>\n",
       "      <td>Christmas</td>\n",
       "      <td>neozilla</td>\n",
       "      <td>Kerry's Bouqcakes</td>\n",
       "      <td>411000</td>\n",
       "      <td>#buttercream #floralcupcakes #floralpiping #cu...</td>\n",
       "      <td>15</td>\n",
       "      <td>['whats favourite', 'favourite thing', 'thing ...</td>\n",
       "      <td>['whats favourite thing', 'favourite thing chr...</td>\n",
       "      <td>Positive</td>\n",
       "    </tr>\n",
       "    <tr>\n",
       "      <th>2</th>\n",
       "      <td>NaN</td>\n",
       "      <td>https://www.tiktok.com/@cupcakesloversv/video/...</td>\n",
       "      <td>10</td>\n",
       "      <td>0</td>\n",
       "      <td>173</td>\n",
       "      <td>0</td>\n",
       "      <td>0</td>\n",
       "      <td>8</td>\n",
       "      <td>Run Free (Original Mix)</td>\n",
       "      <td>Deep Chills</td>\n",
       "      <td>Cupcakes Lover</td>\n",
       "      <td>190</td>\n",
       "      <td>#cupxakes #proceso #cremaverde</td>\n",
       "      <td>3</td>\n",
       "      <td>[]</td>\n",
       "      <td>[]</td>\n",
       "      <td>Neutral</td>\n",
       "    </tr>\n",
       "    <tr>\n",
       "      <th>3</th>\n",
       "      <td>bday ceo konfidinz thanks cupcakesthey taste good</td>\n",
       "      <td>https://www.tiktok.com/@brebre0029/video/74258...</td>\n",
       "      <td>7</td>\n",
       "      <td>1</td>\n",
       "      <td>92</td>\n",
       "      <td>0</td>\n",
       "      <td>3</td>\n",
       "      <td>29</td>\n",
       "      <td>SJAYY Not Like Us FT. Kendrick Lamar</td>\n",
       "      <td>SJAYY</td>\n",
       "      <td>Bre Bre</td>\n",
       "      <td>580</td>\n",
       "      <td>#cupcakelovers #sweets #bdaygirl #bdayqueen #v...</td>\n",
       "      <td>5</td>\n",
       "      <td>['bday ceo', 'ceo konfidinz', 'konfidinz thank...</td>\n",
       "      <td>['bday ceo konfidinz', 'ceo konfidinz thanks',...</td>\n",
       "      <td>Positive</td>\n",
       "    </tr>\n",
       "    <tr>\n",
       "      <th>4</th>\n",
       "      <td>NaN</td>\n",
       "      <td>https://www.tiktok.com/@cupcakesloversv/video/...</td>\n",
       "      <td>257</td>\n",
       "      <td>2</td>\n",
       "      <td>2137</td>\n",
       "      <td>1</td>\n",
       "      <td>0</td>\n",
       "      <td>15</td>\n",
       "      <td>Mega Francesita (Remix)</td>\n",
       "      <td>DJ Dmonio</td>\n",
       "      <td>Cupcakes Lover</td>\n",
       "      <td>190</td>\n",
       "      <td>#pastelespersonalizados #parati #cupcakeslover</td>\n",
       "      <td>3</td>\n",
       "      <td>[]</td>\n",
       "      <td>[]</td>\n",
       "      <td>Neutral</td>\n",
       "    </tr>\n",
       "  </tbody>\n",
       "</table>\n",
       "</div>"
      ],
      "text/plain": [
       "                                                text  \\\n",
       "0                             beautiful blue thought   \n",
       "1  whats favourite thing christmas long go certai...   \n",
       "2                                                NaN   \n",
       "3  bday ceo konfidinz thanks cupcakesthey taste good   \n",
       "4                                                NaN   \n",
       "\n",
       "                                         webVideoUrl  diggCount  shareCount  \\\n",
       "0  https://www.tiktok.com/@kerrysbouqcakes/video/...     173800        7256   \n",
       "1  https://www.tiktok.com/@kerrysbouqcakes/video/...      17600        2263   \n",
       "2  https://www.tiktok.com/@cupcakesloversv/video/...         10           0   \n",
       "3  https://www.tiktok.com/@brebre0029/video/74258...          7           1   \n",
       "4  https://www.tiktok.com/@cupcakesloversv/video/...        257           2   \n",
       "\n",
       "   playCount  collectCount  commentCount  duration  \\\n",
       "0    3000000         15700           313        10   \n",
       "1     486900          2296           863        49   \n",
       "2        173             0             0         8   \n",
       "3         92             0             3        29   \n",
       "4       2137             1             0        15   \n",
       "\n",
       "                              musicName  musicAuthor           nickName  \\\n",
       "0        Kulture Klub (Sped up Version)     Lucy Tun  Kerry's Bouqcakes   \n",
       "1                             Christmas     neozilla  Kerry's Bouqcakes   \n",
       "2               Run Free (Original Mix)  Deep Chills     Cupcakes Lover   \n",
       "3  SJAYY Not Like Us FT. Kendrick Lamar        SJAYY            Bre Bre   \n",
       "4               Mega Francesita (Remix)    DJ Dmonio     Cupcakes Lover   \n",
       "\n",
       "     fans                                           hashtags  hashtag_count  \\\n",
       "0  411000  #beautifulblue #blue #buttercream #buttercream...             17   \n",
       "1  411000  #buttercream #floralcupcakes #floralpiping #cu...             15   \n",
       "2     190                     #cupxakes #proceso #cremaverde              3   \n",
       "3     580  #cupcakelovers #sweets #bdaygirl #bdayqueen #v...              5   \n",
       "4     190     #pastelespersonalizados #parati #cupcakeslover              3   \n",
       "\n",
       "                                             bigrams  \\\n",
       "0                 ['beautiful blue', 'blue thought']   \n",
       "1  ['whats favourite', 'favourite thing', 'thing ...   \n",
       "2                                                 []   \n",
       "3  ['bday ceo', 'ceo konfidinz', 'konfidinz thank...   \n",
       "4                                                 []   \n",
       "\n",
       "                                            trigrams Sentiment_text  \n",
       "0                         ['beautiful blue thought']       Positive  \n",
       "1  ['whats favourite thing', 'favourite thing chr...       Positive  \n",
       "2                                                 []        Neutral  \n",
       "3  ['bday ceo konfidinz', 'ceo konfidinz thanks',...       Positive  \n",
       "4                                                 []        Neutral  "
      ]
     },
     "execution_count": 8,
     "metadata": {},
     "output_type": "execute_result"
    }
   ],
   "source": [
    "df1.head()"
   ]
  },
  {
   "cell_type": "code",
   "execution_count": 9,
   "metadata": {},
   "outputs": [],
   "source": [
    "import logging\n",
    "\n",
    "logging.basicConfig(level=logging.INFO, format='%(asctime)s %(levelname)s: %(message)s')\n"
   ]
  },
  {
   "cell_type": "markdown",
   "metadata": {},
   "source": [
    "## Recomendaciones de descripciones\n",
    "En este apartado mandaremos el dataframe1 y filtrará por vistas los videos y hará una recomendación sobre cual seria la descripción ideal"
   ]
  },
  {
   "cell_type": "code",
   "execution_count": 10,
   "metadata": {},
   "outputs": [
    {
     "name": "stderr",
     "output_type": "stream",
     "text": [
      "2024-11-07 10:26:13,561 INFO: HTTP Request: POST https://api.openai.com/v1/chat/completions \"HTTP/1.1 200 OK\"\n"
     ]
    },
    {
     "name": "stdout",
     "output_type": "stream",
     "text": [
      "¡Descubre cómo hacer los cupcakes más deliciosos! 🍰 Aprende a decorar con recetas fáciles y sorprende a todos. ¡No olvides compartir tu creación! #CupcakeLover #RecetasDeliciosas\n"
     ]
    }
   ],
   "source": [
    "def recomendacion_descripcion(df: pd.DataFrame, cantidad: int, api_key: str) -> str:\n",
    "    df_filter = df[df[\"playCount\"] > cantidad]\n",
    "    text = \" \".join(df_filter[\"text\"].astype(str).values)\n",
    "    try:\n",
    "        response = client.chat.completions.create(\n",
    "            model=\"gpt-4o-mini\",\n",
    "            messages=[\n",
    "                {\"role\": \"system\", \"content\": \"Estás a cargo del sector de marketing.\"},\n",
    "                {\"role\": \"user\", \"content\": f\"Below you have all the descriptions of videos that have a number of views greater than {cantidad}, which is the following {text}, I want you to analyze everything and return me the ideal description to create a high-impact video that produces great number of views. (Give me the description in Spanish please) (It is a description of TikTok, it should not be large in size) The characters should not exceed 50-100 [just give me the description, don't give me any more extra]\"}\n",
    "            ],\n",
    "            # max_tokens=150\n",
    "        )\n",
    "        response = response.model_dump()\n",
    "        return response['choices'][0]['message']['content']\n",
    "    except Exception as e:\n",
    "        logging.error(f\"Error en recomendacion_descripcion: {e}\")\n",
    "        return f\"Error: {str(e)}\"\n",
    "    \n",
    "\n",
    "recomendacion=recomendacion_descripcion(df1,10000,openai_api_key)\n",
    "print(recomendacion)"
   ]
  },
  {
   "cell_type": "markdown",
   "metadata": {},
   "source": [
    "## Ideas principales de los videos"
   ]
  },
  {
   "cell_type": "code",
   "execution_count": 11,
   "metadata": {},
   "outputs": [
    {
     "name": "stderr",
     "output_type": "stream",
     "text": [
      "2024-11-07 10:26:38,897 INFO: HTTP Request: POST https://api.openai.com/v1/chat/completions \"HTTP/1.1 200 OK\"\n"
     ]
    },
    {
     "name": "stdout",
     "output_type": "stream",
     "text": [
      "Claro, aquí tienes las tres principales ideas de las descripciones de los videos, en español:\n",
      "\n",
      "1. **Recetas de Cupcakes**: Las descripciones mencionan diversas recetas de cupcakes, incluyendo ingredientes y pasos para preparar cupcakes de vainilla, chocolate y otros sabores, enfatizando la importancia de las técnicas de decoración con buttercream.\n",
      "\n",
      "2. **Tutoriales y Clases de Decoración**: Se destaca la disponibilidad de tutoriales en línea para aprender a decorar cupcakes y crear ramos de cupcakes, invitando a los espectadores a visitar sitios web específicos para mejorar sus habilidades de repostería.\n",
      "\n",
      "3. **Celebraciones y Ocasiones Especiales**: Las descripciones hacen referencia a ocasiones especiales como la Navidad y el Día Nacional del Amante de los Cupcakes, sugiriendo que los cupcakes son una parte divertida y deliciosa de las celebraciones y momentos compartidos con seres queridos.\n"
     ]
    }
   ],
   "source": [
    "def ideas_principales(df: pd.DataFrame, cantidad: int, num_ideas: int, api_key: str) -> str:\n",
    "    df_filter = df[df[\"playCount\"] > cantidad]\n",
    "    text = \" \".join(df_filter[\"text\"].astype(str).values)\n",
    "    try:\n",
    "        response = client.chat.completions.create(\n",
    "            model=\"gpt-4o-mini\",\n",
    "            messages=[\n",
    "                {\"role\": \"system\", \"content\": \"Estás a cargo del sector de marketing.\"},\n",
    "                {\"role\": \"user\", \"content\": f\"Below you have all the descriptions of videos that have a number of views greater than {cantidad}, which is the following {text}, I want you to analyze these descriptions and tell me what are the {num_ideas} main ideas that the videos have (Give me the description in Spanish please) \"}\n",
    "            ],\n",
    "            # max_tokens=150\n",
    "        )\n",
    "        response = response.model_dump()\n",
    "        return response['choices'][0]['message']['content']\n",
    "    except Exception as e:\n",
    "        logging.error(f\"Error en ideas_principales: {e}\")\n",
    "        return f\"Error: {str(e)}\"\n",
    "\n",
    "ideas_prin=ideas_principales(df1,10000,3,openai_api_key)\n",
    "print(ideas_prin)"
   ]
  },
  {
   "cell_type": "markdown",
   "metadata": {},
   "source": [
    "## Hashtags ideales"
   ]
  },
  {
   "cell_type": "code",
   "execution_count": 12,
   "metadata": {},
   "outputs": [
    {
     "name": "stderr",
     "output_type": "stream",
     "text": [
      "2024-11-07 10:26:53,146 INFO: HTTP Request: POST https://api.openai.com/v1/chat/completions \"HTTP/1.1 200 OK\"\n"
     ]
    },
    {
     "name": "stdout",
     "output_type": "stream",
     "text": [
      "Tus hashtags ideales son los siguientes: #buttercream, #cupcakeinspo, #edibleart.\n"
     ]
    }
   ],
   "source": [
    "def hashtags_ideales(df: pd.DataFrame, cantidad: int, num_hash: int, api_key: str) -> list:\n",
    "    df_filter = df[df[\"playCount\"] > cantidad]\n",
    "    hashtags = \"|\".join(df_filter[\"hashtags\"].astype(str).values)\n",
    "    views = \"|\".join(df_filter[\"playCount\"].astype(str).values)\n",
    "    try:\n",
    "        response = client.chat.completions.create(\n",
    "            model=\"gpt-4o-mini\",\n",
    "            messages=[\n",
    "                {\"role\": \"system\", \"content\": \"Eres un asistente de análisis de hashtags.\"},\n",
    "                {\"role\": \"user\", \"content\": f\"Provide only a list of the top {num_hash} most impactful hashtags based on this data: views {views} and hashtags {hashtags} [hashtags per video are separated by '|']. Ouput algo asi (Tus hashtags ideales son los siguientes #- , #-,etc)\"}\n",
    "            ],\n",
    "            max_tokens=100\n",
    "        )\n",
    "        response = response.model_dump()\n",
    "        return response['choices'][0]['message']['content']\n",
    "    except Exception as e:\n",
    "        logging.error(f\"Error en hashtags_ideales: {e}\")\n",
    "        return f\"Error: {str(e)}\"\n",
    " \n",
    "\n",
    "hashtags = hashtags_ideales(df1, 10000, 3, openai_api_key)\n",
    "\n",
    "print(hashtags)\n",
    "\n"
   ]
  },
  {
   "cell_type": "markdown",
   "metadata": {},
   "source": [
    "## Ideas principales basadas en transcripción"
   ]
  },
  {
   "cell_type": "code",
   "execution_count": 13,
   "metadata": {},
   "outputs": [
    {
     "name": "stderr",
     "output_type": "stream",
     "text": [
      "2024-11-07 10:27:11,225 INFO: HTTP Request: POST https://api.openai.com/v1/chat/completions \"HTTP/1.1 200 OK\"\n"
     ]
    },
    {
     "name": "stdout",
     "output_type": "stream",
     "text": [
      "1. **Calificaciones y Comparaciones de Galletas**: Muchos de los videos se centran en calificar y comparar diferentes tipos de galletas, tanto comerciales como caseras. Esto incluye mencionar marcas populares, sabores y características específicas que hacen que cada tipo de galleta sea especial o destacada. Este enfoque busca guiar a los espectadores sobre cuáles galletas probar según sus preferencias personales.\n",
      "\n",
      "2. **Recetas de Galletas Caseras**: Una gran parte de los videos ofrece recetas para hacer galletas en casa, destacando los ingredientes y el proceso de preparación. Los creadores de contenido comparten recetas diversas, desde galletas de avena hasta galletas con chips de chocolate, lo que permite a los espectadores experimentar en su cocina y disfrutar de resultados caseros.\n",
      "\n",
      "3. **Experiencias y Recomendaciones**: Los videos también incluyen recomendaciones y anécdotas personales sobre las galletas, ya sea en términos de sabor, textura o experiencias al hornear. Los creadores a menudo comparten sus preferencias y momentos relacionados con la comida, creando un ambiente acogedor y amigable que invita a los espectadores a interactuar y probar las recomendaciones dadas.\n"
     ]
    }
   ],
   "source": [
    "def ideas_principales2(df: pd.DataFrame, num_ideas: int, api_key: str) -> str:\n",
    "    text = \"|\".join(df[\"contenido_limpio\"].astype(str).values)\n",
    "    try:\n",
    "        response = client.chat.completions.create(\n",
    "            model=\"gpt-4o-mini\",\n",
    "            messages=[\n",
    "                {\"role\": \"system\", \"content\": \"Estás a cargo del sector de marketing.\"},\n",
    "                {\"role\": \"user\", \"content\": f\"Below you have all the transcripts of the videos that have a good number of views, estas son las transcripciones del video {text} [separadas por '|'], quiero que analices estas transcripciones y me digas cuáles son las {num_ideas} ideas principales que tienen los videos (Give me the description in Spanish please) \"}\n",
    "            ],\n",
    "            # max_tokens=150\n",
    "        )\n",
    "        response = response.model_dump()\n",
    "        return response['choices'][0]['message']['content']\n",
    "    except Exception as e:\n",
    "        logging.error(f\"Error en ideas_principales2: {e}\")\n",
    "        return f\"Error: {str(e)}\"\n",
    "\n",
    "ideas_prin2=ideas_principales2(df2,3,openai_api_key)\n",
    "print(ideas_prin2)"
   ]
  },
  {
   "cell_type": "markdown",
   "metadata": {},
   "source": [
    "## Ideas para videos"
   ]
  },
  {
   "cell_type": "code",
   "execution_count": 14,
   "metadata": {},
   "outputs": [
    {
     "name": "stderr",
     "output_type": "stream",
     "text": [
      "2024-11-07 10:27:27,096 INFO: HTTP Request: POST https://api.openai.com/v1/chat/completions \"HTTP/1.1 200 OK\"\n"
     ]
    },
    {
     "name": "stdout",
     "output_type": "stream",
     "text": [
      "Claro, aquí tienes tres ideas para futuros videos de TikTok basados en las descripciones de los videos anteriores:\n",
      "\n",
      "1. **Desafío de Galletas Rellenas**: \"¡Únete al desafío de galletas rellenas! Vamos a probar diferentes combinaciones de galletas con rellenos sorprendentes. ¿Qué pasará cuando mezclemos oreo con manjar o chocolate blanco con galleta de vainilla? ¡Te sorprenderás! Comparte tus combinaciones favoritas en los comentarios y déjanos saber cuál te gustaría que probáramos en el próximo video. ¡Sigue para ver el resultado!\"\n",
      "\n",
      "2. **Recetas Saludables de Galletas**: \"Hoy te traemos una receta fácil y saludable de galletas de avena y chocolate. Solo necesitas unos pocos ingredientes para hacer unas galletas deliciosas y nutritivas. Ideal para un snack entre comidas o para disfrutar sin culpa. Quédate hasta el final para ver el resultado y no olvides seguirnos para más recetas saludables.\"\n",
      "\n",
      "3. **Galletas Épicas de Halloween**: \"¡Halloween está a la vuelta de la esquina! Vamos a preparar galletas espeluznantes para celebrar. En este video, te enseñaremos a decorar galletas de diferentes formas y colores temáticos. ¡Prepárate para impresionar a tus amigos con estas delicias! No olvides compartir tus creaciones usando nuestro hashtag especial de Halloween. ¡Dale like y síguenos para más ideas divertidas!\" \n",
      "\n",
      "Estas ideas aprovechan las tendencias actuales y fomentan la interacción con la audiencia.\n"
     ]
    }
   ],
   "source": [
    "def ideas_video(df: pd.DataFrame, num_ideas: int, api_key: str) -> str:\n",
    "    text = \"|\".join(df[\"contenido_limpio\"].astype(str).values)\n",
    "    try:\n",
    "        response = client.chat.completions.create(\n",
    "            model=\"gpt-4o-mini\",\n",
    "            messages=[\n",
    "                {\"role\": \"system\", \"content\": \"Estás a cargo del sector de marketing.\"},\n",
    "                {\"role\": \"user\", \"content\": f\"Below you have all the transcripts of the videos that have a good number of views, estas son las transcripciones del video {text} [separadas por '|'], quiero que analices las descripciones y me des {num_ideas} ideas para futuros videos de TikTok (Give me the description in Spanish please) \"}\n",
    "            ],\n",
    "            # max_tokens=150\n",
    "        )\n",
    "        response = response.model_dump()\n",
    "        return response['choices'][0]['message']['content']\n",
    "    except Exception as e:\n",
    "        logging.error(f\"Error en ideas_video: {e}\")\n",
    "        return f\"Error: {str(e)}\"\n",
    "\n",
    "ideas=ideas_video(df2,3,openai_api_key)\n",
    "print(ideas)"
   ]
  },
  {
   "cell_type": "markdown",
   "metadata": {},
   "source": [
    "## Idea de Guion"
   ]
  },
  {
   "cell_type": "code",
   "execution_count": 15,
   "metadata": {},
   "outputs": [
    {
     "name": "stderr",
     "output_type": "stream",
     "text": [
      "2024-11-07 10:27:53,791 INFO: HTTP Request: POST https://api.openai.com/v1/chat/completions \"HTTP/1.1 200 OK\"\n"
     ]
    },
    {
     "name": "stdout",
     "output_type": "stream",
     "text": [
      "**Guion para Video de TikTok: \"Cupcakes Navideños Deliciosos y Creativos\"**\n",
      "\n",
      "**[Inicio del Video]**  \n",
      "- **(Escena 1: Presentación)**  \n",
      "  - Mostrar una mesa decorada con motivos navideños.\n",
      "  - Hablar a cámara: “¡Hola, amantes de la cocina! Hoy les traigo una receta espectacular para hacer cupcakes navideños que van a deslumbrar en cualquier celebración. ¡Vamos a poner manos a la obra!”\n",
      "\n",
      "**[Paso 1: Ingredientes]**  \n",
      "- **(Escena 2: Mostrar Ingredientes)**  \n",
      "  - Enfocar los ingredientes sobre la mesa.  \n",
      "  - “Necesitamos: una taza de harina, media taza de azúcar, un cuarto de taza de mantequilla derretida, un huevo, un poco de polvo de hornear, leche, y lo más importante, un toque de canela y nuez moscada para ese sabor navideño.”\n",
      "\n",
      "**[Paso 2: Mezcla de Ingredientes]**  \n",
      "- **(Escena 3: Mezclando)**  \n",
      "  - Mostrar cómo mezclar los ingredientes en un tazón.  \n",
      "  - “Primero, mezclamos los ingredientes secos: la harina, el azúcar, el polvo de hornear, y las especias. Ahora, en otro recipiente, batimos la mantequilla, el huevo y la leche. Combinamos ambas mezclas hasta obtener una masa homogénea.”\n",
      "\n",
      "**[Paso 3: Horneado]**  \n",
      "- **(Escena 4: Preparar el Horno)**  \n",
      "  - Mostrar la mezcla en moldes para cupcakes.  \n",
      "  - “Colocamos la mezcla en los moldes y ¡listo para el horno! Vamos a hornear a 180 grados por 20 minutos.”\n",
      "\n",
      "**[Paso 4: Decoración]**  \n",
      "- **(Escena 5: Decorar los Cupcakes)**  \n",
      "  - Al sacar los cupcakes, mostrar una variedad de coberturas.  \n",
      "  - “Mientras se enfrían, vamos a preparar decoraciones festivas. Podemos usar crema de mantequilla de colores, chispas de chocolate, malvaviscos, y un poco de dulce de chocolate en forma de reno. ¡Creatividad al máximo!”\n",
      "\n",
      "**[Paso 5: Presentación Final]**  \n",
      "- **(Escena 6: Presentar los Cupcakes)**  \n",
      "  - Mostrar los cupcakes decorados en un bello plato.  \n",
      "  - “Y aquí están, nuestros deliciosos cupcakes navideños listos para compartir. ¡Perfectos para la cena de Nochebuena o cualquier reunión con amigos y familia!”\n",
      "\n",
      "**[Cierre del Video]**  \n",
      "- **(Escena 7: Despedida)**  \n",
      "  - Hablar a cámara, sonriendo.  \n",
      "  - “Espero que se animen a hacerlos. No olviden darle like, seguirme para más recetas navideñas y comentar cómo les quedaron. ¡Felices fiestas y nos vemos en la próxima!”\n",
      "\n",
      "**[Final del Video]**  \n",
      "- Incluir una música festiva y un texto que diga \"¡Hazlo tú también!\" o \"¡Cupcakes Navideños para Todos!\" \n",
      "\n",
      "---\n",
      "\n",
      "Este guion está diseñado para ser dinámico y atractivo, ideal para captar la atención en TikTok, utilizando contenido visual y un lenguaje cercano y festivo.\n"
     ]
    }
   ],
   "source": [
    "def idea_guion(df: pd.DataFrame, topic: str, api_key: str) -> str:\n",
    "    text = \"|\".join(df[\"contenido_limpio\"].astype(str).values)\n",
    "    try:\n",
    "        response = client.chat.completions.create(\n",
    "            model=\"gpt-4o-mini\",\n",
    "            messages=[\n",
    "                {\"role\": \"system\", \"content\": \"Estás a cargo del sector de marketing.\"},\n",
    "                {\"role\": \"user\", \"content\": f\"Below you have all the transcripts of the videos that have a good number of views, estas son las transcripciones del video {text} [separadas por '|'], quiero que analices las descripciones y me des una idea de guion para un futuro video de TikTok relacionado con el tema {topic} (Give me the description in Spanish please)\"}\n",
    "            ],\n",
    "            # max_tokens=150\n",
    "        )\n",
    "        response = response.model_dump()\n",
    "        return response['choices'][0]['message']['content']\n",
    "    except Exception as e:\n",
    "        logging.error(f\"Error en idea_guion: {e}\")\n",
    "        return f\"Error: {str(e)}\"\n",
    "tema=\"cupcakes de navidad\"\n",
    "guion=idea_guion(df2,tema,openai_api_key)\n",
    "print(guion)"
   ]
  },
  {
   "cell_type": "markdown",
   "metadata": {},
   "source": [
    "## Dame un Resumen general de los videos"
   ]
  },
  {
   "cell_type": "code",
   "execution_count": 16,
   "metadata": {},
   "outputs": [
    {
     "name": "stderr",
     "output_type": "stream",
     "text": [
      "2024-11-07 10:28:08,859 INFO: HTTP Request: POST https://api.openai.com/v1/chat/completions \"HTTP/1.1 200 OK\"\n"
     ]
    },
    {
     "name": "stdout",
     "output_type": "stream",
     "text": [
      "A lo largo de los videos transcritos, se presenta una variedad de recetas y calificaciones de galletas, muchas de las cuales son populares en Perú. Los videos incluyen desde la preparación de galletas de avena con pasas, galletas de chocolate saludables, hasta la calificación de diferentes tipos de galletas comerciales, como las Oreo y las galletas de la marca Ritz. Los creadores de contenido también comparten tips útiles para hornear, como la temperatura adecuada y el tiempo de cocción, así como ingredientes alternativos para versiones más saludables. Además, algunos videos destacan experiencias personales en la cocina y la importancia de disfrutar momentos en familia o con amigos al preparar y degustar estas delicias. También se mencionan productos específicos del mercado peruano, como galletas rellenas y opciones veganas, dejando ver un enfoque en la accesibilidad y la creatividad en la cocina. En resumen, estos videos ofrecen una mezcla atractiva de entretenimiento culinario y consejos prácticos para todos los amantes de las galletas.\n"
     ]
    }
   ],
   "source": [
    "def resumen(df: pd.DataFrame, api_key: str) -> str:\n",
    "    text = \"|\".join(df[\"contenido_limpio\"].astype(str).values)\n",
    "    try:\n",
    "        response = client.chat.completions.create(\n",
    "            model=\"gpt-4o-mini\",\n",
    "            messages=[\n",
    "                {\"role\": \"system\", \"content\": \"Estás a cargo del sector de marketing.\"},\n",
    "                {\"role\": \"user\", \"content\": f\"Below you have all the transcripts of the videos that have a good number of views, estas son las transcripciones del video {text} [separadas por '|'], quiero que analices los transcripts y me des un resumen general de los videos (Give me the description in Spanish please) [en formato de párrafo]\"}\n",
    "            ],\n",
    "            # max_tokens=200\n",
    "        )\n",
    "        response = response.model_dump()\n",
    "        return response['choices'][0]['message']['content']\n",
    "    except Exception as e:\n",
    "        logging.error(f\"Error en resumen: {e}\")\n",
    "        return f\"Error: {str(e)}\"\n",
    "resumen=resumen(df2,openai_api_key)\n",
    "print(resumen)"
   ]
  },
  {
   "cell_type": "markdown",
   "metadata": {},
   "source": [
    "## Insight personalizado"
   ]
  },
  {
   "cell_type": "code",
   "execution_count": 17,
   "metadata": {},
   "outputs": [
    {
     "name": "stderr",
     "output_type": "stream",
     "text": [
      "2024-11-07 10:28:27,584 INFO: HTTP Request: POST https://api.openai.com/v1/chat/completions \"HTTP/1.1 200 OK\"\n",
      "2024-11-07 10:28:41,085 INFO: HTTP Request: POST https://api.openai.com/v1/chat/completions \"HTTP/1.1 200 OK\"\n"
     ]
    },
    {
     "name": "stdout",
     "output_type": "stream",
     "text": [
      "{'analysis': 'Claro, aquí tienes algunas ideas de tópicos para tus futuros videos relacionados con cupcakes y pasteles, basadas en los datos que proporcionaste:\\n\\n1. **Técnicas de decoración de cupcakes**: Muestra diferentes técnicas de decoración utilizando crema de mantequilla y otros ingredientes. Puedes incluir tutoriales paso a paso.\\n\\n2. **Recetas de cupcakes**: Comparte recetas únicas de cupcakes, como cupcakes de chocolate, vainilla, y otros sabores interesantes, como peras o limones.\\n\\n3. **Cupcakes temáticos**: Realiza cupcakes inspirados en festividades o eventos, como Halloween, Navidad o cumpleaños. Puedes mostrar cómo decorarlos de manera creativa.\\n\\n4. **Cupcakes saludables**: Explora recetas de cupcakes más saludables o con ingredientes bajos en calorías, perfectos para quienes buscan o controlar su dieta.\\n\\n5. **Decoración floral en cupcakes**: Da un tutorial sobre cómo hacer decoración de flores en cupcakes utilizando técnicas de repostería, como el uso de boquillas específicas para crear flores.\\n\\n6. **Revisión de utensilios de repostería**: Habla sobre los utensilios y herramientas que utilizas al hacer cupcakes, explicando su uso y si realmente valen la pena.\\n\\n7. **Desafíos de cupcakes**: Crea contenido divertido probando diferentes recetas de cupcakes o haciendo retos, como un cupcake gigante o una torre de cupcakes.\\n\\n8. **Cupcakes de temporada**: Presenta recetas de cupcakes que se alineen con las estaciones del año, como cupcakes de manzana para el otoño o de frutas para el verano.\\n\\n9. **Cupcakes inspirados en celebridades**: Haz cupcakes basados en celebridades o personajes populares, mostrando qué los hace únicos.\\n\\n10. **Cupcakes de diferentes culturas**: Explora cupcakes que representan diferentes culturas o países, incorporando sabores y técnicas de repostería de varias tradiciones.\\n\\nEstas ideas pueden ayudarte a atraer a un público diverso y a mantener tu contenido fresco y emocionante. ¡Buena suerte con tus futuros videos!', 'num_columns': 5, 'num_rows': 100}\n"
     ]
    }
   ],
   "source": [
    "import pandas as pd\n",
    "from openai import OpenAI\n",
    "import logging\n",
    "\n",
    "def columnas_ideales(df: pd.DataFrame, peticion: str, api_key: str) -> list:\n",
    "    columnas = list(df.columns)\n",
    "    try:\n",
    "        response = client.chat.completions.create(\n",
    "            model=\"gpt-4o-mini\",\n",
    "            messages=[\n",
    "                {\"role\": \"system\", \"content\": \"Eres un asistente de análisis de datos.\"},\n",
    "                {\"role\": \"user\", \"content\": f\"Here are the columns: {columnas}. Please suggest the best columns for this request: '{peticion}'. Only return them as a Python list in this format: ['column1', 'column2', ...]. No additional explanation.\"}\n",
    "            ],\n",
    "            max_tokens=100\n",
    "        )\n",
    "        response = response.model_dump()\n",
    "        recommended_columns = eval(response['choices'][0]['message']['content'].strip())\n",
    "        return recommended_columns\n",
    "    except Exception as e:\n",
    "        logging.error(f\"Error en columnas_ideales: {e}\")\n",
    "        return []\n",
    "\n",
    "def peticion_personalizada(df: pd.DataFrame, peticion: str, api_key: str) -> dict:\n",
    "    \n",
    "    columnas_recomendadas = columnas_ideales(df, peticion, api_key)\n",
    "\n",
    "    existing_cols = [col for col in columnas_recomendadas if col in df.columns]\n",
    "\n",
    "    if not existing_cols:\n",
    "        return {\"analysis\": \"Error: The provided DataFrame is empty. Please provide a non-empty DataFrame to analyze.\", \"num_columns\": 0, \"num_rows\": 0}\n",
    "\n",
    "    df_recomendado = df[existing_cols]\n",
    "    info_columnas = df_recomendado.to_string(index=False)\n",
    "\n",
    "    try:\n",
    "        response = client.chat.completions.create(\n",
    "            model=\"gpt-4o-mini\",\n",
    "            messages=[\n",
    "                {\"role\": \"system\", \"content\": \"You are a data analysis assistant.\"},\n",
    "                {\"role\": \"user\", \"content\": f\"Here is data for the relevant columns for this request: '{peticion}'.\\n\\n{info_columnas}\\n\\nPlease give me the answer of the request .(Give me the description in Spanish please)\"}\n",
    "            ]\n",
    "        )\n",
    "        analysis = response.choices[0].message.content\n",
    "        return {\"analysis\": analysis, \"num_columns\": len(existing_cols), \"num_rows\": len(df_recomendado)}\n",
    "    except Exception as e:\n",
    "        logging.error(f\"Error in peticion_personalizada: {str(e)}\")\n",
    "        return {\"analysis\": \"Error: Unable to perform analysis.\", \"num_columns\": 0, \"num_rows\": 0}    \n",
    "\n",
    "\n",
    "peticion=\"quiero que me digas que topicos puedo hacer para mis futuros videos\"\n",
    "peticion_perso=peticion_personalizada(df1,peticion,openai_api_key)\n",
    "print(peticion_perso)"
   ]
  },
  {
   "cell_type": "code",
   "execution_count": null,
   "metadata": {},
   "outputs": [],
   "source": []
  }
 ],
 "metadata": {
  "kernelspec": {
   "display_name": "Python 3",
   "language": "python",
   "name": "python3"
  },
  "language_info": {
   "codemirror_mode": {
    "name": "ipython",
    "version": 3
   },
   "file_extension": ".py",
   "mimetype": "text/x-python",
   "name": "python",
   "nbconvert_exporter": "python",
   "pygments_lexer": "ipython3",
   "version": "3.10.11"
  }
 },
 "nbformat": 4,
 "nbformat_minor": 2
}
